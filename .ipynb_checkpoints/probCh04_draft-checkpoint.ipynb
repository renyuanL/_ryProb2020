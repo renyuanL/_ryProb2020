{
 "cells": [
  {
   "cell_type": "code",
   "execution_count": 1,
   "metadata": {},
   "outputs": [],
   "source": [
    "# ex 4.6\n",
    "import numpy as np\n",
    "import scipy.stats as st\n",
    "\n",
    "X= np.array([1.9, 2.4, 3.0, 3.5, 4.2])"
   ]
  },
  {
   "cell_type": "code",
   "execution_count": 10,
   "metadata": {},
   "outputs": [
    {
     "data": {
      "text/plain": [
       "(5, 3.0, 0.8150000000000002)"
      ]
     },
     "execution_count": 10,
     "metadata": {},
     "output_type": "execute_result"
    }
   ],
   "source": [
    "n= X.size\n",
    "xBar= X.mean()\n",
    "s2= X.var(ddof=1) # unbiased estimation\n",
    "n, xBar, s2"
   ]
  },
  {
   "cell_type": "code",
   "execution_count": 40,
   "metadata": {},
   "outputs": [
    {
     "data": {
      "text/plain": [
       "3.2600000000000007"
      ]
     },
     "execution_count": 40,
     "metadata": {},
     "output_type": "execute_result"
    }
   ],
   "source": [
    "μ= 3\n",
    "σ= 1\n",
    "\n",
    "x2= s2 *(n-1)/σ**2\n",
    "x2"
   ]
  },
  {
   "cell_type": "code",
   "execution_count": 41,
   "metadata": {},
   "outputs": [
    {
     "data": {
      "text/plain": [
       "0.4847052200462285"
      ]
     },
     "execution_count": 41,
     "metadata": {},
     "output_type": "execute_result"
    }
   ],
   "source": [
    "st.chi2.cdf(x2, df= n-1)"
   ]
  },
  {
   "cell_type": "code",
   "execution_count": 29,
   "metadata": {},
   "outputs": [
    {
     "data": {
      "text/plain": [
       "(0.48441855708793014, 11.143286781877796)"
      ]
     },
     "execution_count": 29,
     "metadata": {},
     "output_type": "execute_result"
    }
   ],
   "source": [
    "st.chi2.interval(.95, df=n-1)"
   ]
  },
  {
   "cell_type": "code",
   "execution_count": 48,
   "metadata": {},
   "outputs": [
    {
     "data": {
      "text/plain": [
       "array([ 0.48441856, 11.14328678])"
      ]
     },
     "execution_count": 48,
     "metadata": {},
     "output_type": "execute_result"
    }
   ],
   "source": [
    "np.array(st.chi2.interval(.95, df=n-1))#*(n-1)/σ**2"
   ]
  },
  {
   "cell_type": "code",
   "execution_count": 31,
   "metadata": {},
   "outputs": [],
   "source": [
    "st.chi2?"
   ]
  },
  {
   "cell_type": "code",
   "execution_count": 36,
   "metadata": {},
   "outputs": [
    {
     "data": {
      "text/plain": [
       "0.00017211562995584072"
      ]
     },
     "execution_count": 36,
     "metadata": {},
     "output_type": "execute_result"
    }
   ],
   "source": [
    "st.chi2.cdf(1, df=10)"
   ]
  },
  {
   "cell_type": "code",
   "execution_count": 39,
   "metadata": {},
   "outputs": [
    {
     "data": {
      "text/plain": [
       "0.00017211562995584072"
      ]
     },
     "execution_count": 39,
     "metadata": {},
     "output_type": "execute_result"
    }
   ],
   "source": [
    "st.chi2.cdf(10, df=10, scale=10)"
   ]
  },
  {
   "cell_type": "code",
   "execution_count": 47,
   "metadata": {},
   "outputs": [
    {
     "data": {
      "text/plain": [
       "(1.9376742283517205, 44.573147127511184)"
      ]
     },
     "execution_count": 47,
     "metadata": {},
     "output_type": "execute_result"
    }
   ],
   "source": [
    "st.chi2.interval(.95, df=n-1, scale=(n-1)/σ**2)"
   ]
  },
  {
   "cell_type": "code",
   "execution_count": 51,
   "metadata": {},
   "outputs": [],
   "source": []
  },
  {
   "cell_type": "code",
   "execution_count": 58,
   "metadata": {},
   "outputs": [
    {
     "data": {
      "image/png": "[encoded data removed]",
      "text/plain": [
       "<Figure size 432x288 with 1 Axes>"
      ]
     },
     "metadata": {
      "needs_background": "light"
     },
     "output_type": "display_data"
    }
   ],
   "source": [
    "t= np.linspace(0,30,1001)\n",
    "f= st.chi2.pdf(t, df=10)\n",
    "import matplotlib.pyplot as pl\n",
    "\n",
    "f2= st.chi2.pdf(t, df=10, scale=2)\n",
    "pl.plot(t,f,t,f2);pl.grid(True)"
   ]
  },
  {
   "cell_type": "code",
   "execution_count": 69,
   "metadata": {},
   "outputs": [
    {
     "data": {
      "text/plain": [
       "(20.08606422458906, 80.47291241808138)"
      ]
     },
     "execution_count": 69,
     "metadata": {},
     "output_type": "execute_result"
    }
   ],
   "source": [
    "Q= st.chi2.rvs(df=10, size=10000, scale=2)\n",
    "Q.mean(), Q.var()"
   ]
  },
  {
   "cell_type": "code",
   "execution_count": 67,
   "metadata": {},
   "outputs": [
    {
     "data": {
      "text/plain": [
       "(9.99348215516609, 19.4426104664495)"
      ]
     },
     "execution_count": 67,
     "metadata": {},
     "output_type": "execute_result"
    }
   ],
   "source": []
  },
  {
   "cell_type": "code",
   "execution_count": 114,
   "metadata": {},
   "outputs": [
    {
     "data": {
      "text/plain": [
       "(-0.0005500141280279797, 1.261453393363859)"
      ]
     },
     "execution_count": 114,
     "metadata": {},
     "output_type": "execute_result"
    }
   ],
   "source": [
    "T= st.t.rvs(df=10, size=100000)\n",
    "T.mean(),T.var(ddof=1) # T.var = (ν/(ν-2))"
   ]
  },
  {
   "cell_type": "code",
   "execution_count": 119,
   "metadata": {},
   "outputs": [
    {
     "data": {
      "text/latex": [
       "$\\displaystyle \\infty \\operatorname{sign}{\\left(\\left(\\frac{t^{2}}{ν} + 1\\right)^{- \\frac{ν}{2} - \\frac{1}{2}} \\right)}$"
      ],
      "text/plain": [
       "oo*sign((t**2/ν + 1)**(-ν/2 - 1/2))"
      ]
     },
     "execution_count": 119,
     "metadata": {},
     "output_type": "execute_result"
    }
   ],
   "source": [
    "import sympy as sy\n",
    "\n",
    "x,t,ν= sy.symbols('x,t,ν')\n",
    "f= (1+t**2/ν)**(-(ν+1)/2)\n",
    "sy.integrate(f,(x,0,sy.oo))"
   ]
  },
  {
   "cell_type": "code",
   "execution_count": 169,
   "metadata": {},
   "outputs": [
    {
     "data": {
      "text/plain": [
       "(-1.5439038936193583e-16, 0.0011389886083118424)"
      ]
     },
     "execution_count": 169,
     "metadata": {},
     "output_type": "execute_result"
    },
    {
     "data": {
      "image/png": "[encoded data removed]",
      "text/plain": [
       "<Figure size 432x288 with 1 Axes>"
      ]
     },
     "metadata": {
      "needs_background": "light"
     },
     "output_type": "display_data"
    }
   ],
   "source": [
    "from scipy.special import gamma as Γ\n",
    "π= np.pi\n",
    "\n",
    "t= np.linspace(-3,3, 10001)\n",
    "ν= 100\n",
    "c= Γ((ν+1)/2)/Γ(ν/2)/π**.5/ν**.5 \n",
    "\n",
    "f= (1+t**2/ν)**(-(ν+1)/2)*c\n",
    "f1= st.t.pdf(t, df= ν)\n",
    "f2= st.norm.pdf(t)\n",
    "\n",
    "pl.plot(t,f,t,f1,t,f2);pl.grid(True)\n",
    "(f-f1).max(), (f-f2).max()"
   ]
  },
  {
   "cell_type": "code",
   "execution_count": 143,
   "metadata": {},
   "outputs": [
    {
     "data": {
      "image/png": "[encoded data removed]",
      "text/plain": [
       "<Figure size 432x288 with 1 Axes>"
      ]
     },
     "metadata": {
      "needs_background": "light"
     },
     "output_type": "display_data"
    }
   ],
   "source": [
    "f= (1+t**2/ν)**(-(ν+1)/2)*c\n",
    "f1= st.t.pdf(t, df= ν)\n",
    "pl.plot(t,f1);pl.grid(True)"
   ]
  },
  {
   "cell_type": "code",
   "execution_count": 173,
   "metadata": {},
   "outputs": [],
   "source": [
    "#st.f?\n",
    "import scipy.special as sp\n",
    "sp.beta?"
   ]
  },
  {
   "cell_type": "markdown",
   "metadata": {},
   "source": [
    ".. math::\n",
    "$\n",
    "    f(x, df_1, df_2) = \\frac{df_2^{df_2/2} df_1^{df_1/2} x^{df_1 / 2-1}}\n",
    "                            {(df_2+df_1 x)^{(df_1+df_2)/2}\n",
    "                             B(df_1/2, df_2/2)}\n",
    "$\n",
    "\n",
    "$\n",
    "    f(x, ν_1, ν_2) = \\frac{ν_2^{ν_2/2} ν_1^{ν_1/2} x^{ν_1 / 2-1}}\n",
    "                            {(ν_2+ν_1 x)^{(ν_1+ν_2)/2}\n",
    "                             B(ν_1/2, ν_2/2)}\n",
    "$\n",
    "\n",
    ".. math::\n",
    "$\n",
    "    B(a, b) = \\int_0^1 t^{a-1}(1-t)^{b-1}dt\n",
    "            = \\frac{\\Gamma(a)\\Gamma(b)}{\\Gamma(a+b)},\n",
    "$"
   ]
  },
  {
   "cell_type": "code",
   "execution_count": 181,
   "metadata": {},
   "outputs": [
    {
     "data": {
      "image/png": "[encoded data removed]",
      "text/plain": [
       "<Figure size 432x288 with 1 Axes>"
      ]
     },
     "metadata": {
      "needs_background": "light"
     },
     "output_type": "display_data"
    }
   ],
   "source": [
    "t= np.linspace(0, 10,1001)\n",
    "ν1= 10\n",
    "ν2= 10\n",
    "f= st.f.pdf(t, dfn= ν1, dfd=ν2)\n",
    "pl.plot(t,f);pl.grid(True)"
   ]
  },
  {
   "cell_type": "code",
   "execution_count": 182,
   "metadata": {},
   "outputs": [
    {
     "data": {
      "text/plain": [
       "(0.26904923289491983, 3.7167918645973654)"
      ]
     },
     "execution_count": 182,
     "metadata": {},
     "output_type": "execute_result"
    }
   ],
   "source": [
    "st.f.interval(.95, dfn= ν1, dfd=ν2)"
   ]
  },
  {
   "cell_type": "code",
   "execution_count": 198,
   "metadata": {},
   "outputs": [
    {
     "data": {
      "image/png": "[encoded data removed]",
      "text/plain": [
       "<Figure size 432x288 with 1 Axes>"
      ]
     },
     "metadata": {
      "needs_background": "light"
     },
     "output_type": "display_data"
    }
   ],
   "source": [
    "ν1= 10\n",
    "ν2= 20\n",
    "f11= st.f.pdf(t, dfn= ν1, dfd=ν1)\n",
    "f12= st.f.pdf(t, dfn= ν1, dfd=ν2)\n",
    "f21= st.f.pdf(t, dfn= ν2, dfd=ν1)\n",
    "f22= st.f.pdf(t, dfn= ν2, dfd=ν2)\n",
    "pl.plot(t,f12,t,f21)\n",
    "pl.grid(True)"
   ]
  },
  {
   "cell_type": "code",
   "execution_count": 194,
   "metadata": {},
   "outputs": [
    {
     "data": {
      "image/png": "[encoded data removed]",
      "text/plain": [
       "<Figure size 432x288 with 1 Axes>"
      ]
     },
     "metadata": {
      "needs_background": "light"
     },
     "output_type": "display_data"
    }
   ],
   "source": [
    "pl.plot(t,f21,t,f22)\n",
    "pl.grid(True)"
   ]
  },
  {
   "cell_type": "code",
   "execution_count": 190,
   "metadata": {},
   "outputs": [
    {
     "data": {
      "text/plain": [
       "0.3604881357605584"
      ]
     },
     "execution_count": 190,
     "metadata": {},
     "output_type": "execute_result"
    }
   ],
   "source": [
    "st.f.isf(.95, 10,20)"
   ]
  },
  {
   "cell_type": "code",
   "execution_count": 192,
   "metadata": {},
   "outputs": [
    {
     "data": {
      "text/plain": [
       "0.3604881357605584"
      ]
     },
     "execution_count": 192,
     "metadata": {},
     "output_type": "execute_result"
    }
   ],
   "source": [
    "1/st.f.isf(.05, 20,10)"
   ]
  },
  {
   "cell_type": "code",
   "execution_count": 213,
   "metadata": {},
   "outputs": [
    {
     "data": {
      "text/plain": [
       "(10,\n",
       " 3.9899999999999998,\n",
       " 0.39899999999999997,\n",
       " 0.004769,\n",
       " 0.06905794668247818,\n",
       " 0.004769,\n",
       " 0.06905794668247818,\n",
       " 0.005298888888888889,\n",
       " 0.0727934673503666)"
      ]
     },
     "execution_count": 213,
     "metadata": {},
     "output_type": "execute_result"
    }
   ],
   "source": [
    "# ex 4.1\n",
    "import numpy as np\n",
    "X= np.array(\n",
    "    [.32, .53, .28, .37, .47,\n",
    "     .43, .36, .42, .38, .43])\n",
    "X.size,   \\\n",
    "X.sum(),  \\\n",
    "X.mean(), \\\n",
    "X.var(),  \\\n",
    "X.std(),  \\\n",
    "X.var(ddof=0), \\\n",
    "X.std(ddof=0), \\\n",
    "X.var(ddof=1), \\\n",
    "X.std(ddof=1)"
   ]
  },
  {
   "cell_type": "code",
   "execution_count": 222,
   "metadata": {},
   "outputs": [
    {
     "data": {
      "text/plain": [
       "DescribeResult(nobs=10, minmax=(0.28, 0.53), mean=0.39899999999999997, variance=0.005298888888888889, skewness=0.12330214073821909, kurtosis=-0.5175693249559723)"
      ]
     },
     "execution_count": 222,
     "metadata": {},
     "output_type": "execute_result"
    }
   ],
   "source": [
    "import scipy.stats as st\n",
    "st.describe(X)"
   ]
  },
  {
   "cell_type": "code",
   "execution_count": 220,
   "metadata": {},
   "outputs": [
    {
     "data": {
      "text/plain": [
       "count    10.000000\n",
       "mean      0.399000\n",
       "std       0.072793\n",
       "min       0.280000\n",
       "25%       0.362500\n",
       "50%       0.400000\n",
       "75%       0.430000\n",
       "max       0.530000\n",
       "dtype: float64"
      ]
     },
     "execution_count": 220,
     "metadata": {},
     "output_type": "execute_result"
    }
   ],
   "source": [
    "import pandas as pd\n",
    "pd.Series(X).describe()"
   ]
  },
  {
   "cell_type": "code",
   "execution_count": 224,
   "metadata": {},
   "outputs": [
    {
     "data": {
      "text/plain": [
       "0.006209665325776132"
      ]
     },
     "execution_count": 224,
     "metadata": {},
     "output_type": "execute_result"
    }
   ],
   "source": [
    "# ex4.4\n",
    "μ= 800\n",
    "σ= 40\n",
    "n= 16\n",
    "\n",
    "prob= st.norm.cdf(x= (775-μ)/(σ/n**.5))\n",
    "prob"
   ]
  },
  {
   "cell_type": "code",
   "execution_count": 225,
   "metadata": {},
   "outputs": [
    {
     "data": {
      "text/plain": [
       "0.006209665325776132"
      ]
     },
     "execution_count": 225,
     "metadata": {},
     "output_type": "execute_result"
    }
   ],
   "source": [
    "prob= st.norm.cdf(x= 775, \n",
    "                  loc= μ, \n",
    "                  scale= σ/n**.5)\n",
    "prob"
   ]
  },
  {
   "cell_type": "code",
   "execution_count": 240,
   "metadata": {},
   "outputs": [
    {
     "data": {
      "text/plain": [
       "0.0034669738030405246"
      ]
     },
     "execution_count": 240,
     "metadata": {},
     "output_type": "execute_result"
    }
   ],
   "source": [
    "#case study 4.1\n",
    "μ=  5 #  猜測、假設\n",
    "σ= .1 #  已知\n",
    "n= 100 # 樣本大小\n",
    "xBar= 5.027 # 證據\n",
    "\n",
    "# 求 prob( XBar in [xBar, xBar+dx] | \"μ=5\" ) = ?(1)\n",
    "# 求 prob( XBar in [xBar, +oo] | \"μ=5\" ) = ? (2)\n",
    "# (1) 除了 與 f(xBar) 有關，也與 dx 成正比\n",
    "# (1) 不易明確定義，但 (2) 可為其【上限】\n",
    "# (1) < (2)\n",
    "# 求 (2) = prob(XBar >= xBar | \"μ=5\" ) = ?\n",
    "prob= st.norm.sf(\n",
    "    x=     xBar, \n",
    "    loc=   μ, \n",
    "    scale= σ/n**.5) \n",
    "prob"
   ]
  },
  {
   "cell_type": "code",
   "execution_count": null,
   "metadata": {},
   "outputs": [],
   "source": [
    "# prob= .00347 ，這個值很小 \n",
    "# (一般認定 .05 是【機率很小】的 機率臨界值)\n",
    "# 因此 'μ=5' ==> xBar= 5.027 幾乎不可能。\n",
    "# xBar = 5.027 已經發生，成為證據，\n",
    "# 於是我們的結論是： 'μ=5' 這個猜測(或假設) 不成立！"
   ]
  },
  {
   "cell_type": "code",
   "execution_count": 239,
   "metadata": {},
   "outputs": [
    {
     "data": {
      "text/plain": [
       "(24.19707245191485, 0.8413447460685378, 0.15865525393146218)"
      ]
     },
     "execution_count": 239,
     "metadata": {},
     "output_type": "execute_result"
    }
   ],
   "source": [
    "xBar= 5.01\n",
    "\n",
    "pdf= st.norm.pdf(\n",
    "    x=     xBar, \n",
    "    loc=   μ, \n",
    "    scale= σ/n**.5)\n",
    "cdf= st.norm.cdf(\n",
    "    x=     xBar, \n",
    "    loc=   μ, \n",
    "    scale= σ/n**.5) \n",
    "sf= st.norm.sf(\n",
    "    x=     xBar, \n",
    "    loc=   μ, \n",
    "    scale= σ/n**.5) \n",
    "pdf, cdf, sf"
   ]
  },
  {
   "cell_type": "code",
   "execution_count": 244,
   "metadata": {},
   "outputs": [
    {
     "data": {
      "text/plain": [
       "0.000782701129001274"
      ]
     },
     "execution_count": 244,
     "metadata": {},
     "output_type": "execute_result"
    }
   ],
   "source": [
    "# ex4.5\n",
    "μ=  28 \n",
    "σ= 5 \n",
    "n= 40 \n",
    "xBar= 30.5\n",
    "\n",
    "# 求 prob(XBar > xBar) = ?\n",
    "prob= st.norm.sf(\n",
    "    x=     xBar, \n",
    "    loc=   μ, \n",
    "    scale= σ/n**.5) \n",
    "prob"
   ]
  },
  {
   "cell_type": "code",
   "execution_count": 246,
   "metadata": {},
   "outputs": [
    {
     "data": {
      "text/plain": [
       "0.0013498980316300933"
      ]
     },
     "execution_count": 246,
     "metadata": {},
     "output_type": "execute_result"
    }
   ],
   "source": [
    "# case study 4.2\n",
    "#μ1=  μ2 = ? \n",
    "\n",
    "σ1= σ2 = 1 \n",
    "n1= n2 =18 \n",
    "\n",
    "d= 1.0\n",
    "μ= 0 # == μ1-μ2\n",
    "σ= (σ1**2/n1 + σ2**2/n2)**.5\n",
    "\n",
    "# 求 prob(D > d) = ?\n",
    "prob= st.norm.sf(\n",
    "    x=     d, \n",
    "    loc=   μ, \n",
    "    scale= σ) \n",
    "prob"
   ]
  },
  {
   "cell_type": "code",
   "execution_count": 268,
   "metadata": {},
   "outputs": [
    {
     "data": {
      "image/png": "[encoded data removed]",
      "text/plain": [
       "<Figure size 432x288 with 1 Axes>"
      ]
     },
     "metadata": {
      "needs_background": "light"
     },
     "output_type": "display_data"
    }
   ],
   "source": [
    "x= np.linspace(0,12, 1001).reshape(-1,1)\n",
    "ν= np.arange(2,10)\n",
    "f= st.chi2.pdf(x= x, df= ν)\n",
    "pl.plot(x,f);pl.grid(True)"
   ]
  },
  {
   "cell_type": "code",
   "execution_count": 274,
   "metadata": {},
   "outputs": [
    {
     "data": {
      "image/png": "[encoded data removed]",
      "text/plain": [
       "<Figure size 432x288 with 1 Axes>"
      ]
     },
     "metadata": {
      "needs_background": "light"
     },
     "output_type": "display_data"
    }
   ],
   "source": [
    "x= np.linspace(0,6, 1001).reshape(-1,1)\n",
    "ν= np.arange(2,10)\n",
    "f_S2= st.chi2.pdf(x= x, df= ν, scale=1/ν)\n",
    "pl.plot(x,f_S2);pl.grid(True)"
   ]
  },
  {
   "cell_type": "code",
   "execution_count": 291,
   "metadata": {},
   "outputs": [
    {
     "data": {
      "text/plain": [
       "0.2850565003166312"
      ]
     },
     "execution_count": 291,
     "metadata": {},
     "output_type": "execute_result"
    }
   ],
   "source": [
    "ν= 10\n",
    "χ2_α= 12\n",
    "\n",
    "α= st.chi2.sf(x= χ2_α, df= ν)\n",
    "α"
   ]
  },
  {
   "cell_type": "code",
   "execution_count": 292,
   "metadata": {},
   "outputs": [
    {
     "data": {
      "text/plain": [
       "12.0"
      ]
     },
     "execution_count": 292,
     "metadata": {},
     "output_type": "execute_result"
    }
   ],
   "source": [
    "χ2= st.chi2.isf(q= α, df= ν)\n",
    "χ2"
   ]
  },
  {
   "cell_type": "code",
   "execution_count": 293,
   "metadata": {},
   "outputs": [
    {
     "data": {
      "text/plain": [
       "(5, 3.0, 0.8150000000000002)"
      ]
     },
     "execution_count": 293,
     "metadata": {},
     "output_type": "execute_result"
    }
   ],
   "source": [
    "# ex4.6\n",
    "X= np.array(\n",
    "    [1.9, 2.4, 3.0, \n",
    "     3.5, 4.2])\n",
    "n= X.size\n",
    "xBar= X.mean()\n",
    "s2= X.var(ddof=1)\n",
    "n, xBar, s2"
   ]
  },
  {
   "cell_type": "code",
   "execution_count": 310,
   "metadata": {},
   "outputs": [
    {
     "data": {
      "text/plain": [
       "0.4847052200462285"
      ]
     },
     "execution_count": 310,
     "metadata": {},
     "output_type": "execute_result"
    }
   ],
   "source": [
    "# prob( S2 <= s2 | \"σ=1\") =?\n",
    "σ= 1\n",
    "prob= st.chi2.cdf(x=  s2, \n",
    "                  df= n-1, \n",
    "                  scale= σ**2/(n-1))\n",
    "prob"
   ]
  },
  {
   "cell_type": "code",
   "execution_count": 313,
   "metadata": {},
   "outputs": [
    {
     "data": {
      "text/plain": [
       "3.2600000000000007"
      ]
     },
     "execution_count": 313,
     "metadata": {},
     "output_type": "execute_result"
    }
   ],
   "source": [
    "χ2= s2*(n-1)/σ**2\n",
    "χ2"
   ]
  },
  {
   "cell_type": "code",
   "execution_count": 316,
   "metadata": {},
   "outputs": [
    {
     "data": {
      "text/plain": [
       "0.4847052200462285"
      ]
     },
     "execution_count": 316,
     "metadata": {},
     "output_type": "execute_result"
    }
   ],
   "source": [
    "# prob( X^2 <= χ2 | \"σ=1\") =?\n",
    "prob= st.chi2.cdf(x=  χ2, \n",
    "                  df= n-1)\n",
    "prob"
   ]
  },
  {
   "cell_type": "code",
   "execution_count": null,
   "metadata": {},
   "outputs": [],
   "source": [
    "# prob = .4847 這個機率值不算小，\n",
    "# 因此我們不能拒絕 \"σ=1\" 這個假設"
   ]
  },
  {
   "cell_type": "code",
   "execution_count": 309,
   "metadata": {},
   "outputs": [
    {
     "data": {
      "text/plain": [
       "(0.48441855708793014, 11.143286781877796)"
      ]
     },
     "execution_count": 309,
     "metadata": {},
     "output_type": "execute_result"
    }
   ],
   "source": [
    "st.chi2.interval(alpha=.95, \n",
    "                  df= n-1)"
   ]
  },
  {
   "cell_type": "code",
   "execution_count": 333,
   "metadata": {},
   "outputs": [
    {
     "data": {
      "text/plain": [
       "0.0012591663123683462"
      ]
     },
     "execution_count": 333,
     "metadata": {},
     "output_type": "execute_result"
    }
   ],
   "source": [
    "ν= 10\n",
    "t_α= -4\n",
    "\n",
    "α= st.t.cdf(x= t_α, df= ν)\n",
    "α"
   ]
  },
  {
   "cell_type": "code",
   "execution_count": 334,
   "metadata": {},
   "outputs": [
    {
     "data": {
      "text/plain": [
       "-4.000000000000013"
      ]
     },
     "execution_count": 334,
     "metadata": {},
     "output_type": "execute_result"
    }
   ],
   "source": [
    "t= st.t.ppf(q= α, df= ν)\n",
    "t"
   ]
  },
  {
   "cell_type": "code",
   "execution_count": 335,
   "metadata": {},
   "outputs": [
    {
     "data": {
      "text/plain": [
       "-2.1447866879169277"
      ]
     },
     "execution_count": 335,
     "metadata": {},
     "output_type": "execute_result"
    }
   ],
   "source": [
    "# ex 4.7\n",
    "ν= 14\n",
    "α= .025\n",
    "\n",
    "t= st.t.ppf(q= α, df= ν)\n",
    "t"
   ]
  },
  {
   "cell_type": "code",
   "execution_count": 340,
   "metadata": {},
   "outputs": [
    {
     "data": {
      "text/plain": [
       "(1.7613101357748564, -2.1447866879169277)"
      ]
     },
     "execution_count": 340,
     "metadata": {},
     "output_type": "execute_result"
    }
   ],
   "source": [
    "t_05= st.t.isf(q= .05, df= ν)\n",
    "t_025= st.t.isf(q= .025, df= ν)\n",
    "t_05, -t_025"
   ]
  },
  {
   "cell_type": "code",
   "execution_count": 341,
   "metadata": {},
   "outputs": [
    {
     "data": {
      "text/plain": [
       "0.9249999999999561"
      ]
     },
     "execution_count": 341,
     "metadata": {},
     "output_type": "execute_result"
    }
   ],
   "source": [
    "prob=  st.t.cdf(t_05, df=ν) \\\n",
    "     - st.t.cdf(-t_025, df=ν)\n",
    "prob"
   ]
  },
  {
   "cell_type": "code",
   "execution_count": 345,
   "metadata": {},
   "outputs": [
    {
     "data": {
      "text/plain": [
       "-2.974114356351007"
      ]
     },
     "execution_count": 345,
     "metadata": {},
     "output_type": "execute_result"
    }
   ],
   "source": [
    "# ex4.9\n",
    "n= 15\n",
    "ν= n-1\n",
    "prob= st.t.cdf(-1.761, \n",
    "               df= ν)\\\n",
    "      - .045\n",
    "k= st.t.ppf(prob, df= ν)\n",
    "k"
   ]
  },
  {
   "cell_type": "code",
   "execution_count": 358,
   "metadata": {},
   "outputs": [
    {
     "data": {
      "text/plain": [
       "(2.25, 1.7108820799094282, False)"
      ]
     },
     "execution_count": 358,
     "metadata": {},
     "output_type": "execute_result"
    }
   ],
   "source": [
    "μ= 500\n",
    "\n",
    "xBar= 518\n",
    "s= 40\n",
    "n= 25\n",
    "\n",
    "t= (xBar-μ)/(s/n**.5)\n",
    "t_05= st.t.isf(.05, df= n-1)\n",
    "\n",
    "satisfy= (t<=t_05 and t>=-t_05)\n",
    "\n",
    "t, t_05, satisfy "
   ]
  },
  {
   "cell_type": "code",
   "execution_count": 359,
   "metadata": {},
   "outputs": [],
   "source": [
    "# 上面的計算與推論是基於...\n",
    "# 證據 xBar=518 是否落於 90 % 之【信心區間】這個問題而作。\n",
    "# 結論是 證據 【不】落於信心區間，\n",
    "# 因此 假設 \"μ= 500\" 【不】令人滿意，【不】能接受。\n",
    "# 以下再用【假設檢定】之作法重作一遍，亦得相同之結論。"
   ]
  },
  {
   "cell_type": "code",
   "execution_count": 355,
   "metadata": {},
   "outputs": [
    {
     "data": {
      "text/plain": [
       "0.01694425545275394"
      ]
     },
     "execution_count": 355,
     "metadata": {},
     "output_type": "execute_result"
    }
   ],
   "source": [
    "#\n",
    "# prob(XBar >= xBar | \"μ= 500\")\n",
    "#\n",
    "# prob(  (XBar-μ)/(S/n**.5) \n",
    "#      >=(xBar-μ)/(s/n**.5) \n",
    "#      | \"μ= 500\")\n",
    "#\n",
    "# prob(  T(df=n-1)\n",
    "#      >=t\n",
    "#      | \"μ= 500\")\n",
    "prob= st.t.sf(t, df= n-1)\n",
    "prob"
   ]
  },
  {
   "cell_type": "code",
   "execution_count": null,
   "metadata": {},
   "outputs": [],
   "source": [
    "# prob = .01694 is small (compared with .05/2)\n",
    "# 亦即，假設 \"μ= 500\" 為真的話， 證據 XBar >= 518 幾乎不可能發生\n",
    "# 但現在證據確實發生，因此結論是： 假設 \"μ= 500\" 【不】為真"
   ]
  }
 ],
 "metadata": {
  "kernelspec": {
   "display_name": "Python 3",
   "language": "python",
   "name": "python3"
  },
  "language_info": {
   "codemirror_mode": {
    "name": "ipython",
    "version": 3
   },
   "file_extension": ".py",
   "mimetype": "text/x-python",
   "name": "python",
   "nbconvert_exporter": "python",
   "pygments_lexer": "ipython3",
   "version": "3.7.4"
  },
  "latex_envs": {
   "LaTeX_envs_menu_present": true,
   "autoclose": false,
   "autocomplete": true,
   "bibliofile": "biblio.bib",
   "cite_by": "apalike",
   "current_citInitial": 1,
   "eqLabelWithNumbers": true,
   "eqNumInitial": 1,
   "hotkeys": {
    "equation": "Ctrl-E",
    "itemize": "Ctrl-I"
   },
   "labels_anchors": false,
   "latex_user_defs": false,
   "report_style_numbering": false,
   "user_envs_cfg": false
  },
  "nbTranslate": {
   "displayLangs": [
    "zh-TW",
    "en"
   ],
   "hotkey": "alt-t",
   "langInMainMenu": true,
   "sourceLang": "en",
   "targetLang": "zh-TW",
   "useGoogleTranslate": true
  },
  "toc": {
   "base_numbering": 1,
   "nav_menu": {},
   "number_sections": true,
   "sideBar": true,
   "skip_h1_title": false,
   "title_cell": "Table of Contents",
   "title_sidebar": "Contents",
   "toc_cell": false,
   "toc_position": {},
   "toc_section_display": true,
   "toc_window_display": false
  },
  "varInspector": {
   "cols": {
    "lenName": 16,
    "lenType": 16,
    "lenVar": 40
   },
   "kernels_config": {
    "python": {
     "delete_cmd_postfix": "",
     "delete_cmd_prefix": "del ",
     "library": "var_list.py",
     "varRefreshCmd": "print(var_dic_list())"
    },
    "r": {
     "delete_cmd_postfix": ") ",
     "delete_cmd_prefix": "rm(",
     "library": "var_list.r",
     "varRefreshCmd": "cat(var_dic_list()) "
    }
   },
   "types_to_exclude": [
    "module",
    "function",
    "builtin_function_or_method",
    "instance",
    "_Feature"
   ],
   "window_display": false
  }
 },
 "nbformat": 4,
 "nbformat_minor": 2
}
