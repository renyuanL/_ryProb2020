{
 "cells": [
  {
   "cell_type": "code",
   "execution_count": null,
   "metadata": {},
   "outputs": [],
   "source": [
    "import sympy as sy"
   ]
  },
  {
   "cell_type": "code",
   "execution_count": 2,
   "metadata": {},
   "outputs": [],
   "source": [
    "sy.gamma?"
   ]
  },
  {
   "cell_type": "markdown",
   "metadata": {},
   "source": [
    "$\n",
    "\\Gamma(x) := \\int^{\\infty}_{0} t^{x-1} e^{-t} \\mathrm{d}t\n",
    "$\n",
    "\n",
    "$\n",
    "for ~ α \\gt 0,\n",
    "\\\\\n",
    "\\Gamma(α) := \\int^{\\infty}_{0} x^{α-1} e^{-x} \\mathrm{d}x\n",
    "$\n"
   ]
  },
  {
   "cell_type": "code",
   "execution_count": 3,
   "metadata": {},
   "outputs": [],
   "source": [
    "α, x= sy.symbols('α, x', positive= True)"
   ]
  },
  {
   "cell_type": "code",
   "execution_count": null,
   "metadata": {},
   "outputs": [],
   "source": [
    "f= x**(α-1)*sy.exp(-x)\n",
    "Γ= sy.integrate(f, (x,0,sy.oo))"
   ]
  },
  {
   "cell_type": "code",
   "execution_count": 5,
   "metadata": {},
   "outputs": [
    {
     "data": {
      "text/plain": [
       "(x**(α - 1)*exp(-x), gamma(α))"
      ]
     },
     "execution_count": 5,
     "metadata": {},
     "output_type": "execute_result"
    }
   ],
   "source": [
    "f, Γ"
   ]
  },
  {
   "cell_type": "code",
   "execution_count": 14,
   "metadata": {},
   "outputs": [
    {
     "name": "stdout",
     "output_type": "stream",
     "text": [
      "01_1\n",
      "02_1\n",
      "03_2\n",
      "04_6\n",
      "05_24\n",
      "06_120\n",
      "07_720\n",
      "08_5040\n",
      "09_40320\n",
      "10_362880\n",
      "11_3628800\n",
      "12_39916800\n",
      "13_479001600\n",
      "14_6227020800\n",
      "15_87178291200\n",
      "16_1307674368000\n",
      "17_20922789888000\n",
      "18_355687428096000\n",
      "19_6402373705728000\n"
     ]
    }
   ],
   "source": [
    "for k in range(1,20):\n",
    "    print(f'{k:02d}_{Γ.subs({α:k})}')"
   ]
  },
  {
   "cell_type": "code",
   "execution_count": 28,
   "metadata": {},
   "outputs": [],
   "source": [
    "import numpy as np\n",
    "import scipy.special as sp\n",
    "import scipy.stats as st\n",
    "import matplotlib.pyplot as pl\n"
   ]
  },
  {
   "cell_type": "code",
   "execution_count": 17,
   "metadata": {},
   "outputs": [
    {
     "data": {
      "text/plain": [
       "1.0"
      ]
     },
     "execution_count": 17,
     "metadata": {},
     "output_type": "execute_result"
    }
   ],
   "source": [
    "sp.gamma(1)"
   ]
  },
  {
   "cell_type": "code",
   "execution_count": 18,
   "metadata": {},
   "outputs": [
    {
     "name": "stdout",
     "output_type": "stream",
     "text": [
      "01_1.0\n",
      "02_1.0\n",
      "03_2.0\n",
      "04_6.0\n",
      "05_24.0\n",
      "06_120.0\n",
      "07_720.0\n",
      "08_5040.0\n",
      "09_40320.0\n",
      "10_362880.0\n",
      "11_3628800.0\n",
      "12_39916800.0\n",
      "13_479001600.0\n",
      "14_6227020800.0\n",
      "15_87178291200.0\n",
      "16_1307674368000.0\n",
      "17_20922789888000.0\n",
      "18_355687428096000.0\n",
      "19_6402373705728000.0\n"
     ]
    }
   ],
   "source": [
    "for k in range(1,20):\n",
    "    print(f'{k:02d}_{sp.gamma(k)}')"
   ]
  },
  {
   "cell_type": "code",
   "execution_count": 32,
   "metadata": {},
   "outputs": [
    {
     "name": "stdout",
     "output_type": "stream",
     "text": [
      "[ 1  2  3  4  5  6  7  8  9 10 11 12 13 14 15 16 17 18 19 20 21 22 23 24\n",
      " 25 26 27 28 29 30 31 32 33 34 35 36 37 38 39 40 41 42 43 44 45 46 47 48\n",
      " 49 50 51 52 53 54 55 56 57 58 59 60 61 62 63 64 65 66 67 68 69 70 71 72\n",
      " 73 74 75 76 77 78 79 80 81 82 83 84 85 86 87 88 89 90 91 92 93 94 95 96\n",
      " 97 98 99],[1.00000000e+000 1.00000000e+000 2.00000000e+000 6.00000000e+000\n",
      " 2.40000000e+001 1.20000000e+002 7.20000000e+002 5.04000000e+003\n",
      " 4.03200000e+004 3.62880000e+005 3.62880000e+006 3.99168000e+007\n",
      " 4.79001600e+008 6.22702080e+009 8.71782912e+010 1.30767437e+012\n",
      " 2.09227899e+013 3.55687428e+014 6.40237371e+015 1.21645100e+017\n",
      " 2.43290201e+018 5.10909422e+019 1.12400073e+021 2.58520167e+022\n",
      " 6.20448402e+023 1.55112100e+025 4.03291461e+026 1.08888695e+028\n",
      " 3.04888345e+029 8.84176199e+030 2.65252860e+032 8.22283865e+033\n",
      " 2.63130837e+035 8.68331762e+036 2.95232799e+038 1.03331480e+040\n",
      " 3.71993327e+041 1.37637531e+043 5.23022617e+044 2.03978821e+046\n",
      " 8.15915283e+047 3.34525266e+049 1.40500612e+051 6.04152631e+052\n",
      " 2.65827157e+054 1.19622221e+056 5.50262216e+057 2.58623242e+059\n",
      " 1.24139156e+061 6.08281864e+062 3.04140932e+064 1.55111875e+066\n",
      " 8.06581752e+067 4.27488328e+069 2.30843697e+071 1.26964034e+073\n",
      " 7.10998588e+074 4.05269195e+076 2.35056133e+078 1.38683119e+080\n",
      " 8.32098711e+081 5.07580214e+083 3.14699733e+085 1.98260832e+087\n",
      " 1.26886932e+089 8.24765059e+090 5.44344939e+092 3.64711109e+094\n",
      " 2.48003554e+096 1.71122452e+098 1.19785717e+100 8.50478589e+101\n",
      " 6.12344584e+103 4.47011546e+105 3.30788544e+107 2.48091408e+109\n",
      " 1.88549470e+111 1.45183092e+113 1.13242812e+115 8.94618213e+116\n",
      " 7.15694570e+118 5.79712602e+120 4.75364334e+122 3.94552397e+124\n",
      " 3.31424013e+126 2.81710411e+128 2.42270954e+130 2.10775730e+132\n",
      " 1.85482642e+134 1.65079552e+136 1.48571596e+138 1.35200153e+140\n",
      " 1.24384141e+142 1.15677251e+144 1.08736616e+146 1.03299785e+148\n",
      " 9.91677935e+149 9.61927597e+151 9.42689045e+153]\n"
     ]
    },
    {
     "data": {
      "image/png": "[encoded data removed]",
      "text/plain": [
       "<Figure size 432x288 with 1 Axes>"
      ]
     },
     "metadata": {
      "needs_background": "light"
     },
     "output_type": "display_data"
    }
   ],
   "source": [
    "k= np.arange(1,100)\n",
    "print(f'{k},{sp.gamma(k)}')\n",
    "pl.plot(k, sp.gamma(k));\n",
    "pl.yscale('log');pl.grid(True)"
   ]
  },
  {
   "cell_type": "code",
   "execution_count": 51,
   "metadata": {},
   "outputs": [
    {
     "data": {
      "text/plain": [
       "9.668714614714128"
      ]
     },
     "execution_count": 51,
     "metadata": {},
     "output_type": "execute_result"
    }
   ],
   "source": [
    "st.gamma.ppf(.50,a=10)"
   ]
  },
  {
   "cell_type": "code",
   "execution_count": 49,
   "metadata": {},
   "outputs": [
    {
     "data": {
      "text/plain": [
       "10.0"
      ]
     },
     "execution_count": 49,
     "metadata": {},
     "output_type": "execute_result"
    }
   ],
   "source": [
    "st.gamma.var(a=10)"
   ]
  },
  {
   "cell_type": "code",
   "execution_count": 50,
   "metadata": {},
   "outputs": [
    {
     "data": {
      "text/plain": [
       "10.0"
      ]
     },
     "execution_count": 50,
     "metadata": {},
     "output_type": "execute_result"
    }
   ],
   "source": [
    "st.poisson.ppf(.50, mu=10)"
   ]
  },
  {
   "cell_type": "code",
   "execution_count": 66,
   "metadata": {},
   "outputs": [],
   "source": [
    "st.binom.pmf(1,  n=10, p=.5),\\\n",
    "st.nbinom.pmf?"
   ]
  },
  {
   "cell_type": "code",
   "execution_count": 135,
   "metadata": {},
   "outputs": [
    {
     "data": {
      "text/plain": [
       "(0.1318653468244868,\n",
       " 0.1329807601338109,\n",
       " 0.1329807601338109,\n",
       " 0.12511003572113372)"
      ]
     },
     "execution_count": 135,
     "metadata": {},
     "output_type": "execute_result"
    }
   ],
   "source": [
    "p= succProb= .1\n",
    "q= 1-p\n",
    "tryN= 100\n",
    "succN= 10\n",
    "failN= tryN-succN\n",
    "μ= tryN*p\n",
    "σ= (tryN*p*q)**.5\n",
    "\n",
    "# 在 試驗 tryN 次 時，成功 succN 次 之機率 \n",
    "st.binom.pmf(  k= succN,  n=  tryN, p= p),\\\n",
    "st.norm.pdf(x= succN,  loc= μ, scale= σ),\\\n",
    "st.norm.pdf(x= (succN-μ)/σ) /σ,\\\n",
    "st.poisson.pmf(k= succN,  mu= μ)"
   ]
  },
  {
   "cell_type": "code",
   "execution_count": 138,
   "metadata": {},
   "outputs": [
    {
     "data": {
      "text/plain": [
       "(0.013186534682449525,\n",
       " 0.013186534682449182,\n",
       " 0.012511003572113372,\n",
       " 0.012511003572113372)"
      ]
     },
     "execution_count": 138,
     "metadata": {},
     "output_type": "execute_result"
    }
   ],
   "source": [
    "# 在 成功 succN 次時，  試驗 tryN 次 之機率  \n",
    "st.binom.pmf( k= succN-1,  n= tryN-1,p= p)*p,\\\n",
    "st.nbinom.pmf(k= failN,    n= succN, p= p),\\\n",
    "st.gamma.pdf( x= tryN,     a= succN, scale= μ),\\\n",
    "st.poisson.pmf(k= succN-1,  mu= μ)*p"
   ]
  },
  {
   "cell_type": "code",
   "execution_count": 128,
   "metadata": {},
   "outputs": [
    {
     "data": {
      "text/plain": [
       "(0.5831555122664922,\n",
       " 0.5830397501929852,\n",
       " 0.5661838326109037,\n",
       " 0.5661838326109037,\n",
       " 0.5487098345579935,\n",
       " 0.5483099414785946)"
      ]
     },
     "execution_count": 128,
     "metadata": {},
     "output_type": "execute_result"
    }
   ],
   "source": [
    "st.binom.cdf(  k= succN,  n=  tryN, p= p),\\\n",
    "st.poisson.cdf(k= succN,  mu= μ),\\\n",
    "st.norm.cdf(x= succN+.5,  loc= μ, scale= σ),\\\n",
    "st.norm.cdf(x= (succN+.5-μ)/σ),\\\n",
    "st.nbinom.cdf(k= failN,  n= succN, p= p),\\\n",
    "st.gamma.cdf( x= tryN+.5, a= succN, scale= μ)"
   ]
  },
  {
   "cell_type": "code",
   "execution_count": null,
   "metadata": {},
   "outputs": [],
   "source": []
  },
  {
   "cell_type": "code",
   "execution_count": 127,
   "metadata": {},
   "outputs": [
    {
     "data": {
      "text/plain": [
       "(0.1318653468244868,\n",
       " 0.12511003572113372,\n",
       " 0.1329807601338109,\n",
       " 0.1329807601338109,\n",
       " 0.5831555122664922,\n",
       " 0.5830397501929852,\n",
       " 0.5661838326109037,\n",
       " 0.5661838326109037,\n",
       " 0.013186534682449525,\n",
       " 0.013186534682449182,\n",
       " 0.012511003572113372,\n",
       " 0.5487098345579935,\n",
       " 0.5483099414785946)"
      ]
     },
     "execution_count": 127,
     "metadata": {},
     "output_type": "execute_result"
    }
   ],
   "source": []
  },
  {
   "cell_type": "code",
   "execution_count": null,
   "metadata": {},
   "outputs": [],
   "source": [
    "st.binom.pmf(1,  n=10, p=.5),\\"
   ]
  },
  {
   "cell_type": "code",
   "execution_count": 68,
   "metadata": {},
   "outputs": [],
   "source": [
    "st.nbinom?"
   ]
  },
  {
   "cell_type": "code",
   "execution_count": 4,
   "metadata": {},
   "outputs": [
    {
     "data": {
      "text/latex": [
       "$\\displaystyle 2 \\sqrt{2}$"
      ],
      "text/plain": [
       "2*sqrt(2)"
      ]
     },
     "execution_count": 4,
     "metadata": {},
     "output_type": "execute_result"
    }
   ],
   "source": [
    "sy.sqrt(8)"
   ]
  },
  {
   "cell_type": "code",
   "execution_count": 13,
   "metadata": {},
   "outputs": [],
   "source": [
    "sy.symbols?"
   ]
  },
  {
   "cell_type": "code",
   "execution_count": 23,
   "metadata": {},
   "outputs": [],
   "source": [
    "a,b,c,x,y,z= sy.symbols('a:c, x:z')"
   ]
  },
  {
   "cell_type": "code",
   "execution_count": 34,
   "metadata": {},
   "outputs": [
    {
     "data": {
      "text/latex": [
       "$\\displaystyle a x + b y$"
      ],
      "text/plain": [
       "a*x + b*y"
      ]
     },
     "execution_count": 34,
     "metadata": {},
     "output_type": "execute_result"
    }
   ],
   "source": [
    "f= a*x+b*y\n",
    "f"
   ]
  },
  {
   "cell_type": "code",
   "execution_count": 35,
   "metadata": {},
   "outputs": [
    {
     "data": {
      "text/latex": [
       "$\\displaystyle a^{2} x^{2} + 2 a b x y + b^{2} y^{2}$"
      ],
      "text/plain": [
       "a**2*x**2 + 2*a*b*x*y + b**2*y**2"
      ]
     },
     "execution_count": 35,
     "metadata": {},
     "output_type": "execute_result"
    }
   ],
   "source": [
    "g= sy.expand(f**2)\n",
    "g"
   ]
  },
  {
   "cell_type": "code",
   "execution_count": 36,
   "metadata": {},
   "outputs": [
    {
     "data": {
      "text/latex": [
       "$\\displaystyle \\left(a x + b y\\right)^{2}$"
      ],
      "text/plain": [
       "(a*x + b*y)**2"
      ]
     },
     "execution_count": 36,
     "metadata": {},
     "output_type": "execute_result"
    }
   ],
   "source": [
    "h= sy.factor(g)\n",
    "h"
   ]
  },
  {
   "cell_type": "code",
   "execution_count": 44,
   "metadata": {},
   "outputs": [
    {
     "data": {
      "text/latex": [
       "$\\displaystyle 0$"
      ],
      "text/plain": [
       "0"
      ]
     },
     "execution_count": 44,
     "metadata": {},
     "output_type": "execute_result"
    }
   ],
   "source": [
    "sy.diff"
   ]
  },
  {
   "cell_type": "code",
   "execution_count": 42,
   "metadata": {},
   "outputs": [
    {
     "data": {
      "text/latex": [
       "$\\displaystyle \\frac{a^{2} x^{3}}{3} + a b x^{2} y + b^{2} x y^{2}$"
      ],
      "text/plain": [
       "a**2*x**3/3 + a*b*x**2*y + b**2*x*y**2"
      ]
     },
     "execution_count": 42,
     "metadata": {},
     "output_type": "execute_result"
    }
   ],
   "source": [
    "sy.integrate(h,x)"
   ]
  },
  {
   "cell_type": "code",
   "execution_count": 48,
   "metadata": {},
   "outputs": [
    {
     "data": {
      "text/latex": [
       "$\\displaystyle e^{x} \\sin{\\left(x \\right)}$"
      ],
      "text/plain": [
       "exp(x)*sin(x)"
      ]
     },
     "execution_count": 48,
     "metadata": {},
     "output_type": "execute_result"
    }
   ],
   "source": [
    "f1= sy.exp(x)*sy.sin(x)\n",
    "f1"
   ]
  },
  {
   "cell_type": "code",
   "execution_count": 58,
   "metadata": {},
   "outputs": [
    {
     "data": {
      "text/latex": [
       "$\\displaystyle e^{x} \\sin{\\left(x \\right)} + e^{x} \\cos{\\left(x \\right)}$"
      ],
      "text/plain": [
       "exp(x)*sin(x) + exp(x)*cos(x)"
      ]
     },
     "execution_count": 58,
     "metadata": {},
     "output_type": "execute_result"
    }
   ],
   "source": [
    "sy.diff(f1,x)"
   ]
  },
  {
   "cell_type": "code",
   "execution_count": 61,
   "metadata": {},
   "outputs": [
    {
     "data": {
      "text/latex": [
       "$\\displaystyle - \\frac{1}{2}$"
      ],
      "text/plain": [
       "-1/2"
      ]
     },
     "execution_count": 61,
     "metadata": {},
     "output_type": "execute_result"
    }
   ],
   "source": [
    "sy.integrate(f1,(x,-sy.oo,0))"
   ]
  },
  {
   "cell_type": "code",
   "execution_count": 62,
   "metadata": {},
   "outputs": [
    {
     "data": {
      "text/latex": [
       "$\\displaystyle \\sin{\\left(x + y \\right)}$"
      ],
      "text/plain": [
       "sin(x + y)"
      ]
     },
     "execution_count": 62,
     "metadata": {},
     "output_type": "execute_result"
    }
   ],
   "source": [
    "f2= sy.sin(x+y)\n",
    "f2"
   ]
  },
  {
   "cell_type": "code",
   "execution_count": 63,
   "metadata": {},
   "outputs": [
    {
     "data": {
      "text/latex": [
       "$\\displaystyle \\sin{\\left(x + y \\right)}$"
      ],
      "text/plain": [
       "sin(x + y)"
      ]
     },
     "execution_count": 63,
     "metadata": {},
     "output_type": "execute_result"
    }
   ],
   "source": [
    "sy.expand(f2)"
   ]
  },
  {
   "cell_type": "code",
   "execution_count": 65,
   "metadata": {},
   "outputs": [],
   "source": [
    "sy.expand_trig?"
   ]
  },
  {
   "cell_type": "code",
   "execution_count": 68,
   "metadata": {},
   "outputs": [
    {
     "data": {
      "text/latex": [
       "$\\displaystyle x^{2} + 2.0 i x y - 1.0 y^{2}$"
      ],
      "text/plain": [
       "x**2 + 2.0*I*x*y - 1.0*y**2"
      ]
     },
     "execution_count": 68,
     "metadata": {},
     "output_type": "execute_result"
    }
   ],
   "source": [
    "sy.expand((x+1j*y)**2)"
   ]
  },
  {
   "cell_type": "code",
   "execution_count": 69,
   "metadata": {},
   "outputs": [
    {
     "data": {
      "text/latex": [
       "$\\displaystyle a$"
      ],
      "text/plain": [
       "a"
      ]
     },
     "execution_count": 69,
     "metadata": {},
     "output_type": "execute_result"
    }
   ],
   "source": [
    "a"
   ]
  },
  {
   "cell_type": "code",
   "execution_count": 70,
   "metadata": {},
   "outputs": [],
   "source": [
    "f= c"
   ]
  },
  {
   "cell_type": "code",
   "execution_count": 76,
   "metadata": {},
   "outputs": [
    {
     "data": {
      "text/latex": [
       "$\\displaystyle 2 c$"
      ],
      "text/plain": [
       "2*c"
      ]
     },
     "execution_count": 76,
     "metadata": {},
     "output_type": "execute_result"
    }
   ],
   "source": [
    "sy.integrate(f,(x,-1,1))"
   ]
  },
  {
   "cell_type": "code",
   "execution_count": 77,
   "metadata": {},
   "outputs": [],
   "source": [
    "sy.Piecewise?"
   ]
  },
  {
   "cell_type": "code",
   "execution_count": 119,
   "metadata": {
    "code_folding": []
   },
   "outputs": [
    {
     "data": {
      "text/latex": [
       "$\\displaystyle \\begin{cases} \\frac{1}{- a + b} & \\text{for}\\: b \\geq x \\wedge a \\leq x \\\\0 & \\text{for}\\: \\neg \\left(b \\geq x \\wedge a \\leq x\\right) \\end{cases}$"
      ],
      "text/plain": [
       "Piecewise((1/(-a + b), (b >= x) & (a <= x)), (0, ~((b >= x) & (a <= x))))"
      ]
     },
     "execution_count": 119,
     "metadata": {},
     "output_type": "execute_result"
    }
   ],
   "source": [
    "f= 1/(b-a)\n",
    "cond= (x>=a) & (x<=b)\n",
    "\n",
    "f= sy.Piecewise(\n",
    "    (f, cond), \n",
    "    (0, ~cond)\n",
    "    )\n",
    "f"
   ]
  },
  {
   "cell_type": "code",
   "execution_count": 125,
   "metadata": {},
   "outputs": [
    {
     "data": {
      "text/latex": [
       "$\\displaystyle \\begin{cases} 1 & \\text{for}\\: a < b \\\\0 & \\text{otherwise} \\end{cases}$"
      ],
      "text/plain": [
       "Piecewise((1, a < b), (0, True))"
      ]
     },
     "execution_count": 125,
     "metadata": {},
     "output_type": "execute_result"
    }
   ],
   "source": [
    "sy.integrate(f,(x,a, b)).simplify()"
   ]
  },
  {
   "cell_type": "code",
   "execution_count": 126,
   "metadata": {},
   "outputs": [
    {
     "data": {
      "text/latex": [
       "$\\displaystyle \\begin{cases} \\frac{a}{2} + \\frac{b}{2} & \\text{for}\\: a < b \\\\0 & \\text{otherwise} \\end{cases}$"
      ],
      "text/plain": [
       "Piecewise((a/2 + b/2, a < b), (0, True))"
      ]
     },
     "execution_count": 126,
     "metadata": {},
     "output_type": "execute_result"
    }
   ],
   "source": [
    "μ= sy.integrate(f*x,(x,a, b)).simplify()\n",
    "μ"
   ]
  },
  {
   "cell_type": "code",
   "execution_count": 131,
   "metadata": {},
   "outputs": [
    {
     "data": {
      "text/latex": [
       "$\\displaystyle \\begin{cases} \\frac{a^{2} - 2 a b + b^{2}}{12} & \\text{for}\\: a < b \\\\0 & \\text{otherwise} \\end{cases}$"
      ],
      "text/plain": [
       "Piecewise(((a**2 - 2*a*b + b**2)/12, a < b), (0, True))"
      ]
     },
     "execution_count": 131,
     "metadata": {},
     "output_type": "execute_result"
    }
   ],
   "source": [
    "sy.simplify(sy.integrate(f*x**2,(x,a, b))-μ**2)"
   ]
  },
  {
   "cell_type": "code",
   "execution_count": 124,
   "metadata": {},
   "outputs": [
    {
     "data": {
      "text/latex": [
       "$\\displaystyle \\begin{cases} \\frac{a^{2}}{3} + \\frac{a b}{3} + \\frac{b^{2}}{3} & \\text{for}\\: a < b \\\\0 & \\text{otherwise} \\end{cases}$"
      ],
      "text/plain": [
       "Piecewise((a**2/3 + a*b/3 + b**2/3, a < b), (0, True))"
      ]
     },
     "execution_count": 124,
     "metadata": {},
     "output_type": "execute_result"
    }
   ],
   "source": [
    "sy.integrate(f*x**2,(x,a, b)).simplify()"
   ]
  },
  {
   "cell_type": "code",
   "execution_count": 115,
   "metadata": {},
   "outputs": [
    {
     "data": {
      "text/latex": [
       "$\\displaystyle \\begin{cases} 0.25 & \\text{for}\\: x \\geq 0 \\wedge x \\leq 4 \\\\0 & \\text{for}\\: x > 4 \\vee x < 0 \\end{cases}$"
      ],
      "text/plain": [
       "Piecewise((0.25, (x >= 0) & (x <= 4)), (0, (x > 4) | (x < 0)))"
      ]
     },
     "execution_count": 115,
     "metadata": {},
     "output_type": "execute_result"
    }
   ],
   "source": [
    "f=    1/4\n",
    "範圍= (x>=0) & (x<=4)\n",
    "\n",
    "f= sy.Piecewise(\n",
    "    (f, 範圍), \n",
    "    (0, ~範圍)\n",
    "    )\n",
    "f"
   ]
  },
  {
   "cell_type": "code",
   "execution_count": 114,
   "metadata": {},
   "outputs": [
    {
     "data": {
      "text/latex": [
       "$\\displaystyle 0.25$"
      ],
      "text/plain": [
       "0.250000000000000"
      ]
     },
     "execution_count": 114,
     "metadata": {},
     "output_type": "execute_result"
    }
   ],
   "source": [
    "prob= sy.integrate(f,(x,3,sy.oo))\n",
    "prob"
   ]
  },
  {
   "cell_type": "code",
   "execution_count": 122,
   "metadata": {},
   "outputs": [],
   "source": [
    "sy.symbols?"
   ]
  },
  {
   "cell_type": "code",
   "execution_count": 132,
   "metadata": {},
   "outputs": [],
   "source": [
    "sy.symbols??\n"
   ]
  },
  {
   "cell_type": "code",
   "execution_count": 133,
   "metadata": {},
   "outputs": [
    {
     "data": {
      "text/plain": [
       "(a, b)"
      ]
     },
     "execution_count": 133,
     "metadata": {},
     "output_type": "execute_result"
    }
   ],
   "source": [
    "a,b"
   ]
  },
  {
   "cell_type": "code",
   "execution_count": 134,
   "metadata": {},
   "outputs": [
    {
     "data": {
      "text/latex": [
       "$\\displaystyle a < b$"
      ],
      "text/plain": [
       "a < b"
      ]
     },
     "execution_count": 134,
     "metadata": {},
     "output_type": "execute_result"
    }
   ],
   "source": [
    "a<b"
   ]
  },
  {
   "cell_type": "code",
   "execution_count": 135,
   "metadata": {},
   "outputs": [
    {
     "data": {
      "text/latex": [
       "$\\displaystyle a > b$"
      ],
      "text/plain": [
       "a > b"
      ]
     },
     "execution_count": 135,
     "metadata": {},
     "output_type": "execute_result"
    }
   ],
   "source": [
    "a>b"
   ]
  },
  {
   "cell_type": "code",
   "execution_count": 137,
   "metadata": {},
   "outputs": [
    {
     "data": {
      "text/latex": [
       "$\\displaystyle e^{- x^{2}}$"
      ],
      "text/plain": [
       "exp(-x**2)"
      ]
     },
     "execution_count": 137,
     "metadata": {},
     "output_type": "execute_result"
    }
   ],
   "source": [
    "f= sy.exp(-x**2)\n",
    "f"
   ]
  },
  {
   "cell_type": "code",
   "execution_count": 184,
   "metadata": {},
   "outputs": [
    {
     "data": {
      "image/png": "[encoded data removed]",
      "text/plain": [
       "<Figure size 432x288 with 1 Axes>"
      ]
     },
     "metadata": {
      "needs_background": "light"
     },
     "output_type": "display_data"
    },
    {
     "data": {
      "text/plain": [
       "<sympy.plotting.plot.Plot at 0x2584d8608c8>"
      ]
     },
     "execution_count": 184,
     "metadata": {},
     "output_type": "execute_result"
    }
   ],
   "source": [
    "import sympy as sy\n",
    "import sympy.plotting as pl\n",
    "\n",
    "x=  sy.symbols('x')\n",
    "fx= sy.exp(-x**2)\n",
    "pl.plot(fx, (x,-3,3))\n"
   ]
  },
  {
   "cell_type": "code",
   "execution_count": 190,
   "metadata": {},
   "outputs": [
    {
     "data": {
      "text/latex": [
       "$\\displaystyle \\sqrt{\\pi}$"
      ],
      "text/plain": [
       "sqrt(pi)"
      ]
     },
     "execution_count": 190,
     "metadata": {},
     "output_type": "execute_result"
    }
   ],
   "source": [
    "# sy.oo == ∞\n",
    "sy.integrate(fx, (x, -sy.oo, sy.oo))"
   ]
  },
  {
   "cell_type": "markdown",
   "metadata": {},
   "source": [
    "$\\infty$"
   ]
  },
  {
   "cell_type": "code",
   "execution_count": 147,
   "metadata": {},
   "outputs": [
    {
     "data": {
      "image/png": "[encoded data removed]",
      "text/plain": [
       "<Figure size 432x288 with 1 Axes>"
      ]
     },
     "metadata": {
      "needs_background": "light"
     },
     "output_type": "display_data"
    },
    {
     "data": {
      "text/plain": [
       "<sympy.plotting.plot.Plot at 0x2584ba12ac8>"
      ]
     },
     "execution_count": 147,
     "metadata": {},
     "output_type": "execute_result"
    }
   ],
   "source": [
    "fxy= sy.exp(-(x**2+y**2))\n",
    "pl.plot3d(fxy, (x,-3,3), (y,-3,3))"
   ]
  },
  {
   "cell_type": "code",
   "execution_count": 149,
   "metadata": {},
   "outputs": [
    {
     "data": {
      "text/latex": [
       "$\\displaystyle e^{- x^{2}}$"
      ],
      "text/plain": [
       "exp(-x**2)"
      ]
     },
     "execution_count": 149,
     "metadata": {},
     "output_type": "execute_result"
    }
   ],
   "source": [
    "f"
   ]
  },
  {
   "cell_type": "code",
   "execution_count": 150,
   "metadata": {},
   "outputs": [
    {
     "data": {
      "text/latex": [
       "$\\displaystyle \\sqrt{\\pi}$"
      ],
      "text/plain": [
       "sqrt(pi)"
      ]
     },
     "execution_count": 150,
     "metadata": {},
     "output_type": "execute_result"
    }
   ],
   "source": [
    "sy.integrate(f,(x,-sy.oo, sy.oo))"
   ]
  },
  {
   "cell_type": "code",
   "execution_count": 167,
   "metadata": {},
   "outputs": [
    {
     "data": {
      "text/latex": [
       "$\\displaystyle e^{- \\frac{\\left(- a + x\\right)^{2}}{2}}$"
      ],
      "text/plain": [
       "exp(-(-a + x)**2/2)"
      ]
     },
     "execution_count": 167,
     "metadata": {},
     "output_type": "execute_result"
    }
   ],
   "source": [
    "g= f.subs(x,(x-a)/sy.sqrt(2))\n",
    "g"
   ]
  },
  {
   "cell_type": "code",
   "execution_count": 168,
   "metadata": {},
   "outputs": [
    {
     "data": {
      "text/latex": [
       "$\\displaystyle \\frac{\\sqrt{2} \\sqrt{\\pi} \\left(2 - \\operatorname{erfc}{\\left(\\frac{\\sqrt{2} a}{2} \\right)}\\right)}{2} + \\frac{\\sqrt{2} \\sqrt{\\pi} \\operatorname{erfc}{\\left(\\frac{\\sqrt{2} a}{2} \\right)}}{2}$"
      ],
      "text/plain": [
       "sqrt(2)*sqrt(pi)*(2 - erfc(sqrt(2)*a/2))/2 + sqrt(2)*sqrt(pi)*erfc(sqrt(2)*a/2)/2"
      ]
     },
     "execution_count": 168,
     "metadata": {},
     "output_type": "execute_result"
    }
   ],
   "source": [
    "I= sy.integrate(g,(x,-sy.oo, sy.oo))\n",
    "I"
   ]
  },
  {
   "cell_type": "code",
   "execution_count": 169,
   "metadata": {},
   "outputs": [
    {
     "data": {
      "text/latex": [
       "$\\displaystyle \\sqrt{2} \\sqrt{\\pi}$"
      ],
      "text/plain": [
       "sqrt(2)*sqrt(pi)"
      ]
     },
     "execution_count": 169,
     "metadata": {},
     "output_type": "execute_result"
    }
   ],
   "source": [
    "I= sy.simplify(I)\n",
    "I"
   ]
  },
  {
   "cell_type": "code",
   "execution_count": 201,
   "metadata": {},
   "outputs": [
    {
     "data": {
      "image/png": "[encoded data removed]",
      "text/plain": [
       "<Figure size 432x288 with 1 Axes>"
      ]
     },
     "metadata": {
      "needs_background": "light"
     },
     "output_type": "display_data"
    }
   ],
   "source": [
    "import numpy as np\n",
    "import matplotlib.pyplot as pl\n",
    "\n",
    "x=  np.linspace(-3,3, 100001)\n",
    "fx= np.exp(-x**2)\n",
    "pl.plot(x, fx)\n",
    "pl.grid()"
   ]
  },
  {
   "cell_type": "code",
   "execution_count": 209,
   "metadata": {},
   "outputs": [
    {
     "data": {
      "text/plain": [
       "1.7724147039216793"
      ]
     },
     "execution_count": 209,
     "metadata": {},
     "output_type": "execute_result"
    }
   ],
   "source": [
    "dx= x[1]-x[0]\n",
    "A=  np.sum(fx*dx)\n",
    "A"
   ]
  },
  {
   "cell_type": "code",
   "execution_count": 210,
   "metadata": {},
   "outputs": [
    {
     "data": {
      "text/plain": [
       "1.7724538509055159"
      ]
     },
     "execution_count": 210,
     "metadata": {},
     "output_type": "execute_result"
    }
   ],
   "source": [
    "B= np.pi**.5\n",
    "B"
   ]
  },
  {
   "cell_type": "code",
   "execution_count": 211,
   "metadata": {},
   "outputs": [
    {
     "data": {
      "text/plain": [
       "2.2086320507898225e-05"
      ]
     },
     "execution_count": 211,
     "metadata": {},
     "output_type": "execute_result"
    }
   ],
   "source": [
    "abs(A-B)/B"
   ]
  },
  {
   "cell_type": "code",
   "execution_count": 216,
   "metadata": {},
   "outputs": [
    {
     "data": {
      "image/png": "[encoded data removed]",
      "text/plain": [
       "<Figure size 432x288 with 1 Axes>"
      ]
     },
     "metadata": {
      "needs_background": "light"
     },
     "output_type": "display_data"
    }
   ],
   "source": [
    "import numpy as np\n",
    "import matplotlib.pyplot as pl\n",
    "\n",
    "π=  np.pi\n",
    "x=  np.linspace(-10,10, 10001)\n",
    "\n",
    "fx= np.exp(-x**2/2)/(2*π)**.5\n",
    "\n",
    "pl.plot(x, fx)\n",
    "pl.grid()"
   ]
  },
  {
   "cell_type": "code",
   "execution_count": 217,
   "metadata": {},
   "outputs": [
    {
     "data": {
      "text/plain": [
       "1.000000000000334"
      ]
     },
     "execution_count": 217,
     "metadata": {},
     "output_type": "execute_result"
    }
   ],
   "source": [
    "dx= x[1]-x[0]\n",
    "A=  np.sum(fx*dx)\n",
    "A"
   ]
  },
  {
   "cell_type": "code",
   "execution_count": 240,
   "metadata": {},
   "outputs": [],
   "source": [
    "\n"
   ]
  },
  {
   "cell_type": "code",
   "execution_count": 328,
   "metadata": {},
   "outputs": [
    {
     "data": {
      "text/latex": [
       "$\\displaystyle \\frac{\\sqrt{2} e^{- \\frac{\\left(x - μ\\right)^{2}}{2 σ^{2}}}}{2 \\sqrt{\\pi} σ}$"
      ],
      "text/plain": [
       "sqrt(2)*exp(-(x - μ)**2/(2*σ**2))/(2*sqrt(pi)*σ)"
      ]
     },
     "execution_count": 328,
     "metadata": {},
     "output_type": "execute_result"
    }
   ],
   "source": [
    "import sympy as sy\n",
    "\n",
    "π= sy.pi\n",
    "\n",
    "x= sy.symbols('x')\n",
    "μ= sy.symbols('μ', real=True)\n",
    "σ= sy.symbols('σ', positive=True)\n",
    "\n",
    "fx= sy.exp(-((x-μ)/σ)**2/2) /σ/sy.sqrt(2*π)\n",
    "fx"
   ]
  },
  {
   "cell_type": "code",
   "execution_count": 329,
   "metadata": {},
   "outputs": [
    {
     "data": {
      "text/plain": [
       "(μ, σ**2)"
      ]
     },
     "execution_count": 329,
     "metadata": {},
     "output_type": "execute_result"
    }
   ],
   "source": [
    "EX=   sy.integrate((x)*fx, (x,-sy.oo, +sy.oo))\n",
    "VarX= sy.integrate(((x-μ)**2)*fx, (x,-sy.oo, +sy.oo))\n",
    "\n",
    "EX,  VarX"
   ]
  },
  {
   "cell_type": "code",
   "execution_count": 330,
   "metadata": {},
   "outputs": [
    {
     "data": {
      "text/plain": [
       "(μ**2 + σ**2, σ**2)"
      ]
     },
     "execution_count": 330,
     "metadata": {},
     "output_type": "execute_result"
    }
   ],
   "source": [
    "EX2=  sy.integrate((x**2)*fx, (x,-sy.oo, +sy.oo))\n",
    "VarX= EX2- EX**2\n",
    "\n",
    "EX2, EX2-EX**2"
   ]
  },
  {
   "cell_type": "code",
   "execution_count": 331,
   "metadata": {},
   "outputs": [],
   "source": [
    "sy.stats?"
   ]
  },
  {
   "cell_type": "code",
   "execution_count": 332,
   "metadata": {},
   "outputs": [
    {
     "data": {
      "text/latex": [
       "$\\displaystyle \\frac{\\sqrt{2} e^{- \\frac{\\left(x - μ\\right)^{2}}{2 σ^{2}}}}{2 \\sqrt{\\pi} σ}$"
      ],
      "text/plain": [
       "sqrt(2)*exp(-(x - μ)**2/(2*σ**2))/(2*sqrt(pi)*σ)"
      ]
     },
     "execution_count": 332,
     "metadata": {},
     "output_type": "execute_result"
    }
   ],
   "source": [
    "import sympy.stats as st\n",
    "X=  st.Normal('X', μ, σ)\n",
    "fx= st.density(X)(x)\n",
    "fx"
   ]
  },
  {
   "cell_type": "code",
   "execution_count": null,
   "metadata": {},
   "outputs": [],
   "source": []
  },
  {
   "cell_type": "code",
   "execution_count": 333,
   "metadata": {},
   "outputs": [
    {
     "data": {
      "text/latex": [
       "$\\displaystyle 1$"
      ],
      "text/plain": [
       "1"
      ]
     },
     "execution_count": 333,
     "metadata": {},
     "output_type": "execute_result"
    }
   ],
   "source": [
    "sy.integrate(fx,(x,-sy.oo,sy.oo))"
   ]
  },
  {
   "cell_type": "code",
   "execution_count": 334,
   "metadata": {},
   "outputs": [
    {
     "data": {
      "text/latex": [
       "$\\displaystyle μ$"
      ],
      "text/plain": [
       "μ"
      ]
     },
     "execution_count": 334,
     "metadata": {},
     "output_type": "execute_result"
    }
   ],
   "source": [
    "sy.integrate(x *fx,(x,-sy.oo,sy.oo))"
   ]
  },
  {
   "cell_type": "code",
   "execution_count": 335,
   "metadata": {},
   "outputs": [
    {
     "data": {
      "text/latex": [
       "$\\displaystyle μ^{2} + σ^{2}$"
      ],
      "text/plain": [
       "μ**2 + σ**2"
      ]
     },
     "execution_count": 335,
     "metadata": {},
     "output_type": "execute_result"
    }
   ],
   "source": [
    "sy.integrate(x**2 *fx,(x,-sy.oo,sy.oo))"
   ]
  },
  {
   "cell_type": "code",
   "execution_count": 336,
   "metadata": {},
   "outputs": [
    {
     "data": {
      "text/plain": [
       "(1, μ, μ**2 + σ**2)"
      ]
     },
     "execution_count": 336,
     "metadata": {},
     "output_type": "execute_result"
    }
   ],
   "source": [
    "st.moment(X,0), st.moment(X,1), st.moment(X,2)"
   ]
  },
  {
   "cell_type": "code",
   "execution_count": 337,
   "metadata": {},
   "outputs": [
    {
     "data": {
      "text/plain": [
       "0.3989422804014327"
      ]
     },
     "execution_count": 337,
     "metadata": {},
     "output_type": "execute_result"
    }
   ],
   "source": [
    "import numpy as np\n",
    "import scipy.stats as st\n",
    "μ= 0\n",
    "σ= 1\n",
    "st.norm.pdf(0, loc= μ, scale= σ)"
   ]
  },
  {
   "cell_type": "code",
   "execution_count": 340,
   "metadata": {},
   "outputs": [
    {
     "data": {
      "text/plain": [
       "array([7.69459863e-23, 9.39632453e-23, 1.14698127e-22, ...,\n",
       "       1.14698127e-22, 9.39632453e-23, 7.69459863e-23])"
      ]
     },
     "execution_count": 340,
     "metadata": {},
     "output_type": "execute_result"
    }
   ],
   "source": [
    "x=  np.linspace(-10,10,1001)\n",
    "fx= st.norm.pdf(x, loc= μ, scale= σ)\n",
    "fx"
   ]
  },
  {
   "cell_type": "code",
   "execution_count": 341,
   "metadata": {},
   "outputs": [
    {
     "data": {
      "image/png": "[encoded data removed]",
      "text/plain": [
       "<Figure size 432x288 with 1 Axes>"
      ]
     },
     "metadata": {
      "needs_background": "light"
     },
     "output_type": "display_data"
    }
   ],
   "source": [
    "import matplotlib.pyplot as pl\n",
    "pl.plot(x,fx);pl.grid(True)"
   ]
  },
  {
   "cell_type": "code",
   "execution_count": 342,
   "metadata": {},
   "outputs": [
    {
     "data": {
      "text/plain": [
       "0.9999999999999787"
      ]
     },
     "execution_count": 342,
     "metadata": {},
     "output_type": "execute_result"
    }
   ],
   "source": [
    "dx= x[1]-x[0]\n",
    "fx.sum()*dx"
   ]
  },
  {
   "cell_type": "code",
   "execution_count": 343,
   "metadata": {},
   "outputs": [
    {
     "data": {
      "text/plain": [
       "array([7.61985302e-24, 9.32333910e-24, 1.14031358e-23, ...,\n",
       "       1.00000000e+00, 1.00000000e+00, 1.00000000e+00])"
      ]
     },
     "execution_count": 343,
     "metadata": {},
     "output_type": "execute_result"
    }
   ],
   "source": [
    "Fx= st.norm.cdf(x, loc= μ, scale= σ)\n",
    "Fx"
   ]
  },
  {
   "cell_type": "code",
   "execution_count": 344,
   "metadata": {},
   "outputs": [
    {
     "data": {
      "image/png": "[encoded data removed]",
      "text/plain": [
       "<Figure size 432x288 with 1 Axes>"
      ]
     },
     "metadata": {
      "needs_background": "light"
     },
     "output_type": "display_data"
    }
   ],
   "source": [
    "pl.plot(x,Fx);pl.grid(True)"
   ]
  },
  {
   "cell_type": "code",
   "execution_count": 348,
   "metadata": {},
   "outputs": [
    {
     "data": {
      "text/plain": [
       "0.15865496727988515"
      ]
     },
     "execution_count": 348,
     "metadata": {},
     "output_type": "execute_result"
    }
   ],
   "source": [
    "# Prob(\"1<=X<=5\") = F(5)-F(1)\n",
    "prob= st.norm.cdf(5, μ,σ)   \\\n",
    "     -st.norm.cdf(1, μ,σ)\n",
    "prob"
   ]
  },
  {
   "cell_type": "code",
   "execution_count": 349,
   "metadata": {},
   "outputs": [
    {
     "data": {
      "text/plain": [
       "0.03288411865916389"
      ]
     },
     "execution_count": 349,
     "metadata": {},
     "output_type": "execute_result"
    }
   ],
   "source": [
    "# ex 3.20\n",
    "#(a)\n",
    "st.norm.sf(1.84, 0, 1)"
   ]
  },
  {
   "cell_type": "code",
   "execution_count": 350,
   "metadata": {},
   "outputs": [
    {
     "data": {
      "text/plain": [
       "0.780686293467969"
      ]
     },
     "execution_count": 350,
     "metadata": {},
     "output_type": "execute_result"
    }
   ],
   "source": [
    "#(b)\n",
    "st.norm.cdf(.86, 0, 1)    \\\n",
    "-st.norm.cdf(-1.97, 0, 1)"
   ]
  },
  {
   "cell_type": "code",
   "execution_count": 351,
   "metadata": {},
   "outputs": [
    {
     "data": {
      "text/plain": [
       "0.520091216596443"
      ]
     },
     "execution_count": 351,
     "metadata": {},
     "output_type": "execute_result"
    }
   ],
   "source": [
    "# ex 3.21\n",
    "#(a)\n",
    "st.norm.isf(.3015, 0, 1)"
   ]
  },
  {
   "cell_type": "code",
   "execution_count": 352,
   "metadata": {},
   "outputs": [
    {
     "data": {
      "text/plain": [
       "-2.370738875989238"
      ]
     },
     "execution_count": 352,
     "metadata": {},
     "output_type": "execute_result"
    }
   ],
   "source": [
    "#(b)\n",
    "# F0= Prob('Z < k')\n",
    "# F1= Prob('Z < -.18')\n",
    "# F1-F0= Prob('k < Z < -.18') = .4197\n",
    "# F0= F1 - .4197 = ?\n",
    "F1= st.norm.cdf(-.18, 0,1)\n",
    "F0= F1 - .4197\n",
    "k= st.norm.ppf(F0, 0,1)\n",
    "k"
   ]
  },
  {
   "cell_type": "code",
   "execution_count": 354,
   "metadata": {},
   "outputs": [
    {
     "data": {
      "text/plain": [
       "0.5763927910523049"
      ]
     },
     "execution_count": 354,
     "metadata": {},
     "output_type": "execute_result"
    }
   ],
   "source": [
    "# ex 3.22\n",
    "μ= 50\n",
    "σ= 10\n",
    "x1= 45\n",
    "x2= 62\n",
    "st.norm.cdf(x2, μ, σ) \\\n",
    "- st.norm.cdf(x1, μ, σ)"
   ]
  },
  {
   "cell_type": "code",
   "execution_count": 355,
   "metadata": {},
   "outputs": [
    {
     "data": {
      "text/plain": [
       "(-0.5, 1.2)"
      ]
     },
     "execution_count": 355,
     "metadata": {},
     "output_type": "execute_result"
    }
   ],
   "source": [
    "z1= (x1-μ)/σ\n",
    "z2= (x2-μ)/σ\n",
    "z1, z2"
   ]
  },
  {
   "cell_type": "code",
   "execution_count": 356,
   "metadata": {},
   "outputs": [
    {
     "data": {
      "text/plain": [
       "0.5763927910523049"
      ]
     },
     "execution_count": 356,
     "metadata": {},
     "output_type": "execute_result"
    }
   ],
   "source": [
    "st.norm.cdf(z2, 0, 1) \\\n",
    "- st.norm.cdf(z1, 0, 1)"
   ]
  },
  {
   "cell_type": "code",
   "execution_count": 357,
   "metadata": {},
   "outputs": [
    {
     "data": {
      "text/plain": [
       "0.10748769707458694"
      ]
     },
     "execution_count": 357,
     "metadata": {},
     "output_type": "execute_result"
    }
   ],
   "source": [
    "# ex 3.23\n",
    "μ= 300\n",
    "σ= 50\n",
    "x1= 362\n",
    "st.norm.sf(x1, μ, σ) "
   ]
  },
  {
   "cell_type": "code",
   "execution_count": 358,
   "metadata": {
    "code_folding": []
   },
   "outputs": [
    {
     "data": {
      "text/plain": [
       "39.246031918869555"
      ]
     },
     "execution_count": 358,
     "metadata": {},
     "output_type": "execute_result"
    }
   ],
   "source": [
    "# ex 3.24\n",
    "μ= 40\n",
    "σ= 6\n",
    "prob= .45\n",
    "st.norm.ppf(, μ, σ) "
   ]
  },
  {
   "cell_type": "code",
   "execution_count": 359,
   "metadata": {},
   "outputs": [
    {
     "data": {
      "text/plain": [
       "46.481916044889736"
      ]
     },
     "execution_count": 359,
     "metadata": {},
     "output_type": "execute_result"
    }
   ],
   "source": [
    "prob= .14\n",
    "st.norm.isf(prob, μ, σ) "
   ]
  },
  {
   "cell_type": "code",
   "execution_count": 75,
   "metadata": {},
   "outputs": [
    {
     "data": {
      "image/png": "[encoded data removed]",
      "text/plain": [
       "<Figure size 432x288 with 1 Axes>"
      ]
     },
     "metadata": {
      "needs_background": "light"
     },
     "output_type": "display_data"
    }
   ],
   "source": [
    "#\n",
    "# binom vs norm\n",
    "#\n",
    "\n",
    "import numpy as np\n",
    "import matplotlib.pyplot as pl\n",
    "import scipy.stats as st\n",
    "\n",
    "n=  10\n",
    "p=  .5\n",
    "\n",
    "k=  np.linspace(0, n, n+1)\n",
    "\n",
    "fB= st.binom.pmf(k, \n",
    "                 n= n, \n",
    "                 p= p)\n",
    "μ=  n*p\n",
    "σ= (n*p*(1-p))**.5\n",
    "x=  np.linspace(0, n, 1001)\n",
    "fN= st.norm.pdf(x, \n",
    "                loc=   μ, \n",
    "                scale= σ)\n",
    "pl.bar(k,fB, color= 'pink')\n",
    "pl.plot(x,fN,'g:')\n",
    "\n",
    "pl.xlabel('k, x')\n",
    "pl.ylabel('bPmf(k), nPdf(x)')\n",
    "pl.grid(True)\n"
   ]
  },
  {
   "cell_type": "code",
   "execution_count": 76,
   "metadata": {},
   "outputs": [
    {
     "data": {
      "image/png": "[encoded data removed]",
      "text/plain": [
       "<Figure size 432x288 with 1 Axes>"
      ]
     },
     "metadata": {
      "needs_background": "light"
     },
     "output_type": "display_data"
    }
   ],
   "source": [
    "FB= st.binom.cdf(k, \n",
    "                 n= n, \n",
    "                 p= p)\n",
    "FN= st.norm.cdf(x, \n",
    "                loc=   μ, \n",
    "                scale= σ)\n",
    "pl.bar(k,FB, color= 'pink')\n",
    "pl.plot(x,FN,'g:')\n",
    "\n",
    "xk0= k\n",
    "FN0= st.norm.cdf(xk0, \n",
    "                 loc=   μ, \n",
    "                 scale= σ)\n",
    "pl.plot(xk0,FN0,'g^')\n",
    "\n",
    "xk1= k + .5\n",
    "FN1= st.norm.cdf(xk1, \n",
    "                 loc=   μ, \n",
    "                 scale= σ)\n",
    "pl.plot(xk1,FN1,'bp')\n",
    "\n",
    "pl.xlabel('k, x')\n",
    "pl.ylabel('bCdf(k), nCdf(k), nCdf(k+.5)')\n",
    "pl.grid(True)"
   ]
  },
  {
   "cell_type": "code",
   "execution_count": 86,
   "metadata": {},
   "outputs": [
    {
     "data": {
      "text/plain": [
       "0.014775318230731143"
      ]
     },
     "execution_count": 86,
     "metadata": {},
     "output_type": "execute_result"
    }
   ],
   "source": [
    "# ex3.31\n",
    "\n",
    "# in binomial ....\n",
    "# P('X<30')=  P('X<=29')=\n",
    "n=100\n",
    "p= .4\n",
    "bCdf= st.binom.cdf(29, n, p)\n",
    "bCdf"
   ]
  },
  {
   "cell_type": "code",
   "execution_count": 88,
   "metadata": {},
   "outputs": [
    {
     "data": {
      "text/plain": [
       "0.016044366989115627"
      ]
     },
     "execution_count": 88,
     "metadata": {},
     "output_type": "execute_result"
    }
   ],
   "source": [
    "# in normal....\n",
    "# P('X<30') =  P('X<=29') \n",
    "# ~ P('X<=29.5')\n",
    "μ= n*p\n",
    "σ= (n*p*(1-p))**.5\n",
    "nCdf= st.norm.cdf(29.5, μ,σ)\n",
    "nCdf"
   ]
  },
  {
   "cell_type": "code",
   "execution_count": 105,
   "metadata": {},
   "outputs": [
    {
     "data": {
      "text/plain": [
       "0.11927050150855942"
      ]
     },
     "execution_count": 105,
     "metadata": {},
     "output_type": "execute_result"
    }
   ],
   "source": [
    "# Ex: 3.32\n",
    "# P('25 <= X <= 30') = ?\n",
    "n=  80\n",
    "p= .25\n",
    "prob0= \\\n",
    "  st.binom.pmf(k=[25,26,27,28,29,30], \n",
    "               n= n, \n",
    "               p= p).sum()\n",
    "prob0"
   ]
  },
  {
   "cell_type": "code",
   "execution_count": 106,
   "metadata": {},
   "outputs": [
    {
     "data": {
      "text/plain": [
       "0.11927050150855678"
      ]
     },
     "execution_count": 106,
     "metadata": {},
     "output_type": "execute_result"
    }
   ],
   "source": [
    "prob1= \\\n",
    "  st.binom.cdf(k=30,n= n,p= p) \\\n",
    " -st.binom.cdf(k=24,n= n,p= p)\n",
    "prob1"
   ]
  },
  {
   "cell_type": "code",
   "execution_count": 107,
   "metadata": {},
   "outputs": [
    {
     "data": {
      "text/plain": [
       "0.11928592059948362"
      ]
     },
     "execution_count": 107,
     "metadata": {},
     "output_type": "execute_result"
    }
   ],
   "source": [
    "μ= n*p\n",
    "σ= (n*p*(1-p))**.5\n",
    "prob2= \\\n",
    "  st.norm.cdf(x=30.5,loc= μ, scale= σ) \\\n",
    " -st.norm.cdf(x=24.5,loc= μ, scale= σ)\n",
    "prob2"
   ]
  },
  {
   "cell_type": "code",
   "execution_count": 108,
   "metadata": {},
   "outputs": [
    {
     "data": {
      "text/plain": [
       "0.11928592059948362"
      ]
     },
     "execution_count": 108,
     "metadata": {},
     "output_type": "execute_result"
    }
   ],
   "source": [
    "z1= (24.5-μ)/σ\n",
    "z2= (30.5-μ)/σ\n",
    "\n",
    "prob3= \\\n",
    "  st.norm.cdf(x=z2) \\\n",
    " -st.norm.cdf(x=z1)\n",
    "prob3"
   ]
  },
  {
   "cell_type": "code",
   "execution_count": null,
   "metadata": {},
   "outputs": [],
   "source": [
    "#st.gamma?\n",
    "α\n",
    "β"
   ]
  },
  {
   "cell_type": "markdown",
   "metadata": {},
   "source": [
    "in scipy.stats:\n",
    " - $\n",
    " f(x, α) = \\frac{x^{α-1} e^{-x}}{\\Gamma(α)}\n",
    " $\n",
    " \n",
    "in text book:\n",
    " - $\n",
    " f(x, α, β) = \\frac{x^{α-1} e^{-x/β}}{\\Gamma(α) \\cdot β^α}\n",
    " $"
   ]
  },
  {
   "cell_type": "code",
   "execution_count": 225,
   "metadata": {},
   "outputs": [
    {
     "data": {
      "image/png": "[encoded data removed]",
      "text/plain": [
       "<Figure size 432x288 with 1 Axes>"
      ]
     },
     "metadata": {
      "needs_background": "light"
     },
     "output_type": "display_data"
    }
   ],
   "source": [
    "import numpy as np\n",
    "import matplotlib.pyplot as pl\n",
    "import scipy.stats as st\n",
    "\n",
    "x= np.linspace(0,10,1001)\n",
    "a= 2\n",
    "fG= st.gamma.pdf(x, a= a)\n",
    "pl.plot(x,fG); pl.grid()\n"
   ]
  },
  {
   "cell_type": "code",
   "execution_count": 229,
   "metadata": {},
   "outputs": [
    {
     "data": {
      "image/png": "[encoded data removed]",
      "text/plain": [
       "<Figure size 432x288 with 1 Axes>"
      ]
     },
     "metadata": {
      "needs_background": "light"
     },
     "output_type": "display_data"
    }
   ],
   "source": [
    "x= np.linspace(0,10,1001).reshape(-1,1)\n",
    "a= np.array([1,2,3,4,5])\n",
    "fG= st.gamma.pdf(x, a= a)\n",
    "pl.plot(x,fG); pl.grid()"
   ]
  },
  {
   "cell_type": "code",
   "execution_count": 134,
   "metadata": {},
   "outputs": [],
   "source": [
    "pl.plot?"
   ]
  },
  {
   "cell_type": "code",
   "execution_count": 141,
   "metadata": {},
   "outputs": [],
   "source": [
    "st.gamma??"
   ]
  },
  {
   "cell_type": "code",
   "execution_count": 143,
   "metadata": {},
   "outputs": [],
   "source": [
    "import sympy as sy\n",
    "sy.gamma?"
   ]
  },
  {
   "cell_type": "code",
   "execution_count": 173,
   "metadata": {},
   "outputs": [],
   "source": [
    "import scipy as sp\n",
    "sp.special.gamma?"
   ]
  },
  {
   "cell_type": "code",
   "execution_count": 171,
   "metadata": {},
   "outputs": [],
   "source": []
  },
  {
   "cell_type": "markdown",
   "metadata": {},
   "source": [
    "$\n",
    "\\Gamma(α) = \\int_0^\\infty x^{α-1} e^{-x} dx\n",
    "$\n",
    "\n",
    "$\n",
    "\\Gamma(α) = (α-1) \\cdot \\Gamma(α-1) \n",
    "$\n",
    "\n",
    "$\n",
    "\\Gamma(α) = (α-1) \\cdot (α-2) \\cdot (α-3) \\cdots  (α-k) \\cdot \\Gamma(α-k)\n",
    "$\n",
    "\n",
    "$\n",
    "\\Gamma(1)= 0! = 1\n",
    "\\\\\n",
    "\\Gamma(2)= 1! = 1\n",
    "\\\\\n",
    "\\Gamma(1/2)=\\sqrt{\\pi}\n",
    "\\\\\n",
    "\\Gamma(0)=\\infty\n",
    "$"
   ]
  },
  {
   "cell_type": "code",
   "execution_count": 4,
   "metadata": {},
   "outputs": [
    {
     "data": {
      "text/plain": [
       "(inf, 1.7724538509055159, 1.0, 1.0, 2.0, 6.0, 24.0)"
      ]
     },
     "execution_count": 4,
     "metadata": {},
     "output_type": "execute_result"
    }
   ],
   "source": [
    "import numpy as np\n",
    "import matplotlib.pyplot as pl\n",
    "#import scipy as sp\n",
    "import scipy.special\n",
    "\n",
    "#sp.special.gamma?\n",
    "\n",
    "Γ= scipy.special.gamma\n",
    "Γ(0), Γ(1/2), Γ(1), Γ(2), Γ(3), Γ(4), Γ(5) "
   ]
  },
  {
   "cell_type": "code",
   "execution_count": 5,
   "metadata": {},
   "outputs": [
    {
     "data": {
      "image/png": "[encoded data removed]",
      "text/plain": [
       "<Figure size 432x288 with 1 Axes>"
      ]
     },
     "metadata": {
      "needs_background": "light"
     },
     "output_type": "display_data"
    }
   ],
   "source": [
    "α= np.linspace(0.1, 5, 1001)\n",
    "fα= Γ(α)\n",
    "\n",
    "k= np.arange(1,6)\n",
    "fk= Γ(k)\n",
    "\n",
    "pl.plot(α, fα,'r:', \n",
    "        k, fk,'gx')\n",
    "pl.xlabel('α, k')\n",
    "pl.ylabel('Γ(α), Γ(k)')\n",
    "pl.grid(True)"
   ]
  },
  {
   "cell_type": "code",
   "execution_count": 176,
   "metadata": {},
   "outputs": [
    {
     "data": {
      "image/png": "[encoded data removed]",
      "text/plain": [
       "<Figure size 432x288 with 1 Axes>"
      ]
     },
     "metadata": {
      "needs_background": "light"
     },
     "output_type": "display_data"
    }
   ],
   "source": [
    "x= np.linspace(0.1, 5, 1001)\n",
    "fx= Γ(x)\n",
    "\n",
    "k= np.arange(1,6)\n",
    "fk= Γ(k)\n",
    "\n",
    "pl.plot(x, fx,'r:', \n",
    "        k, fk,'gx')\n",
    "pl.xlabel('x, k')\n",
    "pl.ylabel('Γ(x), Γ(k)')\n",
    "pl.grid(True)"
   ]
  },
  {
   "cell_type": "code",
   "execution_count": 233,
   "metadata": {},
   "outputs": [
    {
     "data": {
      "image/png": "[encoded data removed]",
      "text/plain": [
       "<Figure size 432x288 with 1 Axes>"
      ]
     },
     "metadata": {
      "needs_background": "light"
     },
     "output_type": "display_data"
    },
    {
     "data": {
      "text/plain": [
       "<sympy.plotting.plot.Plot at 0x1b2b6a10848>"
      ]
     },
     "execution_count": 233,
     "metadata": {},
     "output_type": "execute_result"
    }
   ],
   "source": [
    "#sy.gamma?\n",
    "x= sy.symbols('x')\n",
    "Γ= sy.gamma(x)\n",
    "sy.plotting.plot(Γ,(x,0.1,5))"
   ]
  },
  {
   "cell_type": "code",
   "execution_count": 234,
   "metadata": {},
   "outputs": [],
   "source": [
    "x= sy.symbols('x')\n",
    "α, β= sy.symbols('α, β', positive=True)"
   ]
  },
  {
   "cell_type": "code",
   "execution_count": 235,
   "metadata": {},
   "outputs": [
    {
     "data": {
      "text/latex": [
       "$\\displaystyle x^{α - 1} e^{- x}$"
      ],
      "text/plain": [
       "x**(α - 1)*exp(-x)"
      ]
     },
     "execution_count": 235,
     "metadata": {},
     "output_type": "execute_result"
    }
   ],
   "source": [
    "fx= x**(α-1)*sy.exp(-x) #/sy.gamma(α)\n",
    "fx"
   ]
  },
  {
   "cell_type": "code",
   "execution_count": 236,
   "metadata": {},
   "outputs": [
    {
     "data": {
      "text/latex": [
       "$\\displaystyle \\Gamma\\left(α\\right)$"
      ],
      "text/plain": [
       "gamma(α)"
      ]
     },
     "execution_count": 236,
     "metadata": {},
     "output_type": "execute_result"
    }
   ],
   "source": [
    "sy.integrate(fx,(x,0,sy.oo))"
   ]
  },
  {
   "cell_type": "code",
   "execution_count": 244,
   "metadata": {},
   "outputs": [
    {
     "data": {
      "text/latex": [
       "$\\displaystyle \\frac{x e^{- \\frac{x}{2}}}{4}$"
      ],
      "text/plain": [
       "x*exp(-x/2)/4"
      ]
     },
     "execution_count": 244,
     "metadata": {},
     "output_type": "execute_result"
    }
   ],
   "source": [
    "fx= x**(α-1)*sy.exp(-x/β) /sy.gamma(α)/β**α\n",
    "fx"
   ]
  },
  {
   "cell_type": "code",
   "execution_count": 238,
   "metadata": {},
   "outputs": [
    {
     "data": {
      "text/latex": [
       "$\\displaystyle 1$"
      ],
      "text/plain": [
       "1"
      ]
     },
     "execution_count": 238,
     "metadata": {},
     "output_type": "execute_result"
    }
   ],
   "source": [
    "sy.integrate(fx,(x,0,sy.oo)).simplify()"
   ]
  },
  {
   "cell_type": "code",
   "execution_count": 230,
   "metadata": {},
   "outputs": [],
   "source": [
    "st.expon?"
   ]
  },
  {
   "cell_type": "code",
   "execution_count": 251,
   "metadata": {},
   "outputs": [
    {
     "data": {
      "text/plain": [
       "0.15163266492815836"
      ]
     },
     "execution_count": 251,
     "metadata": {},
     "output_type": "execute_result"
    }
   ],
   "source": [
    "# using the \"scale\" parameter to represent β\n",
    "α= 2\n",
    "β= 2\n",
    "st.gamma.pdf(1, a= α, scale= β)"
   ]
  },
  {
   "cell_type": "code",
   "execution_count": 250,
   "metadata": {},
   "outputs": [
    {
     "data": {
      "text/plain": [
       "0.15163266492815836"
      ]
     },
     "execution_count": 250,
     "metadata": {},
     "output_type": "execute_result"
    }
   ],
   "source": [
    "# implement the gamma distribution ourselves\n",
    "def gPdf(x, α, β):\n",
    "    f= (x**(α-1) \n",
    "        * np.exp(-x/β) \n",
    "        / sp.special.gamma(α)\n",
    "        / β**α)\n",
    "    return f\n",
    "\n",
    "gPdf(1, α, β)"
   ]
  },
  {
   "cell_type": "code",
   "execution_count": 262,
   "metadata": {},
   "outputs": [
    {
     "data": {
      "text/latex": [
       "$\\displaystyle \\frac{x^{α - 1} β^{- α} e^{- \\frac{x}{β}}}{\\Gamma\\left(α\\right)}$"
      ],
      "text/plain": [
       "x**(α - 1)*β**(-α)*exp(-x/β)/gamma(α)"
      ]
     },
     "execution_count": 262,
     "metadata": {},
     "output_type": "execute_result"
    }
   ],
   "source": [
    "x= sy.symbols('x')\n",
    "α, β= sy.symbols('α, β', \n",
    "                 positive=True)\n",
    "\n",
    "fx= x**(α-1)*sy.exp(-x/β) \\\n",
    "   /sy.gamma(α)/β**α\n",
    "fx\n"
   ]
  },
  {
   "cell_type": "code",
   "execution_count": 260,
   "metadata": {},
   "outputs": [
    {
     "data": {
      "text/latex": [
       "$\\displaystyle α β$"
      ],
      "text/plain": [
       "α*β"
      ]
     },
     "execution_count": 260,
     "metadata": {},
     "output_type": "execute_result"
    }
   ],
   "source": [
    "μ= sy.integrate(x*fx, \n",
    "                (x,0,sy.oo)\n",
    "               ).simplify()\n",
    "μ"
   ]
  },
  {
   "cell_type": "code",
   "execution_count": null,
   "metadata": {},
   "outputs": [],
   "source": [
    "σ2= sy.integrate(((x-μ)**2)*fx, \n",
    "                 (x,0,sy.oo)\n",
    "                ).simplify()\n",
    "σ2"
   ]
  },
  {
   "cell_type": "code",
   "execution_count": 261,
   "metadata": {},
   "outputs": [
    {
     "data": {
      "text/latex": [
       "$\\displaystyle α β^{2}$"
      ],
      "text/plain": [
       "α*β**2"
      ]
     },
     "execution_count": 261,
     "metadata": {},
     "output_type": "execute_result"
    }
   ],
   "source": []
  },
  {
   "cell_type": "code",
   "execution_count": 6,
   "metadata": {},
   "outputs": [],
   "source": [
    "import scipy.stats as st\n"
   ]
  },
  {
   "cell_type": "code",
   "execution_count": 13,
   "metadata": {},
   "outputs": [
    {
     "data": {
      "text/plain": [
       "0.20189651799465538"
      ]
     },
     "execution_count": 13,
     "metadata": {},
     "output_type": "execute_result"
    }
   ],
   "source": [
    "st.expon.sf(x=8, scale=5)"
   ]
  },
  {
   "cell_type": "code",
   "execution_count": 14,
   "metadata": {},
   "outputs": [
    {
     "data": {
      "text/plain": [
       "0.2018965179946554"
      ]
     },
     "execution_count": 14,
     "metadata": {},
     "output_type": "execute_result"
    }
   ],
   "source": [
    "st.gamma.sf(x=8, a=1, scale=5)"
   ]
  },
  {
   "cell_type": "code",
   "execution_count": 18,
   "metadata": {
    "scrolled": true
   },
   "outputs": [
    {
     "data": {
      "text/plain": [
       "0.26272"
      ]
     },
     "execution_count": 18,
     "metadata": {},
     "output_type": "execute_result"
    }
   ],
   "source": [
    "st.binom.pmf(k=[2,3,4,5], \n",
    "             n=5, \n",
    "             p=.2).sum()"
   ]
  },
  {
   "cell_type": "code",
   "execution_count": 19,
   "metadata": {},
   "outputs": [
    {
     "data": {
      "text/plain": [
       "0.7149434996833688"
      ]
     },
     "execution_count": 19,
     "metadata": {},
     "output_type": "execute_result"
    }
   ],
   "source": [
    "st.gamma.cdf(x=60, a=5, scale=10)"
   ]
  },
  {
   "cell_type": "code",
   "execution_count": 20,
   "metadata": {},
   "outputs": [
    {
     "data": {
      "text/plain": [
       "0.04042768199451279"
      ]
     },
     "execution_count": 20,
     "metadata": {},
     "output_type": "execute_result"
    }
   ],
   "source": [
    "st.gamma.sf(x=20, a=2, scale=4)"
   ]
  },
  {
   "cell_type": "code",
   "execution_count": 37,
   "metadata": {},
   "outputs": [
    {
     "data": {
      "text/plain": [
       "array([0.24197072, 0.30326533, 0.24197072, 0.15163266])"
      ]
     },
     "execution_count": 37,
     "metadata": {},
     "output_type": "execute_result"
    }
   ],
   "source": [
    "st.chi2.pdf(x=1, df=[1,2,3,4])"
   ]
  },
  {
   "cell_type": "code",
   "execution_count": 38,
   "metadata": {},
   "outputs": [
    {
     "data": {
      "text/plain": [
       "array([0.24197072, 0.30326533, 0.24197072, 0.15163266])"
      ]
     },
     "execution_count": 38,
     "metadata": {},
     "output_type": "execute_result"
    }
   ],
   "source": [
    "st.gamma.pdf(x=1, a=[0.5, 1.0, 1.5, 2.0], scale=2)"
   ]
  },
  {
   "cell_type": "code",
   "execution_count": 144,
   "metadata": {},
   "outputs": [
    {
     "data": {
      "text/plain": [
       "0.7149434996833688"
      ]
     },
     "execution_count": 144,
     "metadata": {},
     "output_type": "execute_result"
    }
   ],
   "source": [
    "# ex3.35\n",
    "α=  5\n",
    "β= 10\n",
    "\n",
    "st.gamma.cdf(x= 60/β, a= α)"
   ]
  },
  {
   "cell_type": "code",
   "execution_count": 145,
   "metadata": {},
   "outputs": [
    {
     "data": {
      "text/plain": [
       "0.7149434996833688"
      ]
     },
     "execution_count": 145,
     "metadata": {},
     "output_type": "execute_result"
    }
   ],
   "source": [
    "st.gamma.cdf(x= 60, a= α, scale= β)"
   ]
  },
  {
   "cell_type": "code",
   "execution_count": 153,
   "metadata": {},
   "outputs": [
    {
     "data": {
      "text/plain": [
       "(0.24197072451914337, 0.24197072451914337)"
      ]
     },
     "execution_count": 153,
     "metadata": {},
     "output_type": "execute_result"
    }
   ],
   "source": [
    "st.chi2.pdf(x=1, df=1), st.norm.pdf(x=1)"
   ]
  },
  {
   "cell_type": "code",
   "execution_count": 155,
   "metadata": {},
   "outputs": [
    {
     "data": {
      "text/plain": [
       "(0.6826894921370859, 0.6826894921370859)"
      ]
     },
     "execution_count": 155,
     "metadata": {},
     "output_type": "execute_result"
    }
   ],
   "source": [
    "st.chi2.cdf(x=1, df=1), \\\n",
    "st.norm.cdf(x=1)-st.norm.cdf(x=-1)"
   ]
  },
  {
   "cell_type": "code",
   "execution_count": 156,
   "metadata": {},
   "outputs": [
    {
     "data": {
      "text/plain": [
       "(0.9544997361036415, 0.9544997361036416)"
      ]
     },
     "execution_count": 156,
     "metadata": {},
     "output_type": "execute_result"
    }
   ],
   "source": [
    "st.chi2.cdf(x=4, df=1), \\\n",
    "st.norm.cdf(x=2)-st.norm.cdf(x=-2)"
   ]
  },
  {
   "cell_type": "code",
   "execution_count": 157,
   "metadata": {},
   "outputs": [
    {
     "data": {
      "text/plain": [
       "(0.9973002039367398, 0.9973002039367398)"
      ]
     },
     "execution_count": 157,
     "metadata": {},
     "output_type": "execute_result"
    }
   ],
   "source": [
    "st.chi2.cdf(x=9, df=1), \\\n",
    "st.norm.cdf(x=3)-st.norm.cdf(x=-3)"
   ]
  },
  {
   "cell_type": "code",
   "execution_count": null,
   "metadata": {},
   "outputs": [],
   "source": []
  },
  {
   "cell_type": "code",
   "execution_count": null,
   "metadata": {},
   "outputs": [],
   "source": []
  }
 ],
 "metadata": {
  "kernelspec": {
   "display_name": "Python 3",
   "language": "python",
   "name": "python3"
  },
  "language_info": {
   "codemirror_mode": {
    "name": "ipython",
    "version": 3
   },
   "file_extension": ".py",
   "mimetype": "text/x-python",
   "name": "python",
   "nbconvert_exporter": "python",
   "pygments_lexer": "ipython3",
   "version": "3.7.4"
  },
  "latex_envs": {
   "LaTeX_envs_menu_present": true,
   "autoclose": false,
   "autocomplete": true,
   "bibliofile": "biblio.bib",
   "cite_by": "apalike",
   "current_citInitial": 1,
   "eqLabelWithNumbers": true,
   "eqNumInitial": 1,
   "hotkeys": {
    "equation": "Ctrl-E",
    "itemize": "Ctrl-I"
   },
   "labels_anchors": false,
   "latex_user_defs": false,
   "report_style_numbering": false,
   "user_envs_cfg": false
  },
  "nbTranslate": {
   "displayLangs": [
    "zh-TW",
    "en"
   ],
   "hotkey": "alt-t",
   "langInMainMenu": true,
   "sourceLang": "en",
   "targetLang": "zh-TW",
   "useGoogleTranslate": true
  },
  "toc": {
   "base_numbering": 1,
   "nav_menu": {},
   "number_sections": true,
   "sideBar": true,
   "skip_h1_title": false,
   "title_cell": "Table of Contents",
   "title_sidebar": "Contents",
   "toc_cell": false,
   "toc_position": {},
   "toc_section_display": true,
   "toc_window_display": false
  },
  "varInspector": {
   "cols": {
    "lenName": 16,
    "lenType": 16,
    "lenVar": 40
   },
   "kernels_config": {
    "python": {
     "delete_cmd_postfix": "",
     "delete_cmd_prefix": "del ",
     "library": "var_list.py",
     "varRefreshCmd": "print(var_dic_list())"
    },
    "r": {
     "delete_cmd_postfix": ") ",
     "delete_cmd_prefix": "rm(",
     "library": "var_list.r",
     "varRefreshCmd": "cat(var_dic_list()) "
    }
   },
   "types_to_exclude": [
    "module",
    "function",
    "builtin_function_or_method",
    "instance",
    "_Feature"
   ],
   "window_display": false
  }
 },
 "nbformat": 4,
 "nbformat_minor": 2
}
